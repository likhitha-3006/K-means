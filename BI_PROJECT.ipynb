{
 "cells": [
  {
   "cell_type": "code",
   "execution_count": 3,
   "metadata": {},
   "outputs": [],
   "source": [
    "import pandas as pd\n",
    "import numpy as np\n",
    "import seaborn as sns\n",
    "import matplotlib.pyplot as plt\n",
    "import warnings\n",
    "warnings.filterwarnings(\"ignore\")"
   ]
  },
  {
   "cell_type": "code",
   "execution_count": 4,
   "metadata": {
    "scrolled": true
   },
   "outputs": [
    {
     "data": {
      "text/html": [
       "<div>\n",
       "<style scoped>\n",
       "    .dataframe tbody tr th:only-of-type {\n",
       "        vertical-align: middle;\n",
       "    }\n",
       "\n",
       "    .dataframe tbody tr th {\n",
       "        vertical-align: top;\n",
       "    }\n",
       "\n",
       "    .dataframe thead th {\n",
       "        text-align: right;\n",
       "    }\n",
       "</style>\n",
       "<table border=\"1\" class=\"dataframe\">\n",
       "  <thead>\n",
       "    <tr style=\"text-align: right;\">\n",
       "      <th></th>\n",
       "      <th>InvoiceNo</th>\n",
       "      <th>StockCode</th>\n",
       "      <th>Description</th>\n",
       "      <th>Quantity</th>\n",
       "      <th>InvoiceDate</th>\n",
       "      <th>UnitPrice</th>\n",
       "      <th>CustomerID</th>\n",
       "      <th>Country</th>\n",
       "    </tr>\n",
       "  </thead>\n",
       "  <tbody>\n",
       "    <tr>\n",
       "      <th>0</th>\n",
       "      <td>539993</td>\n",
       "      <td>22386</td>\n",
       "      <td>JUMBO BAG PINK POLKADOT</td>\n",
       "      <td>10</td>\n",
       "      <td>1/4/2011 10:00</td>\n",
       "      <td>1.95</td>\n",
       "      <td>13313.0</td>\n",
       "      <td>United Kingdom</td>\n",
       "    </tr>\n",
       "    <tr>\n",
       "      <th>1</th>\n",
       "      <td>539993</td>\n",
       "      <td>21499</td>\n",
       "      <td>BLUE POLKADOT WRAP</td>\n",
       "      <td>25</td>\n",
       "      <td>1/4/2011 10:00</td>\n",
       "      <td>0.42</td>\n",
       "      <td>13313.0</td>\n",
       "      <td>United Kingdom</td>\n",
       "    </tr>\n",
       "    <tr>\n",
       "      <th>2</th>\n",
       "      <td>539993</td>\n",
       "      <td>21498</td>\n",
       "      <td>RED RETROSPOT WRAP</td>\n",
       "      <td>25</td>\n",
       "      <td>1/4/2011 10:00</td>\n",
       "      <td>0.42</td>\n",
       "      <td>13313.0</td>\n",
       "      <td>United Kingdom</td>\n",
       "    </tr>\n",
       "    <tr>\n",
       "      <th>3</th>\n",
       "      <td>539993</td>\n",
       "      <td>22379</td>\n",
       "      <td>RECYCLING BAG RETROSPOT</td>\n",
       "      <td>5</td>\n",
       "      <td>1/4/2011 10:00</td>\n",
       "      <td>2.10</td>\n",
       "      <td>13313.0</td>\n",
       "      <td>United Kingdom</td>\n",
       "    </tr>\n",
       "    <tr>\n",
       "      <th>4</th>\n",
       "      <td>539993</td>\n",
       "      <td>20718</td>\n",
       "      <td>RED RETROSPOT SHOPPER BAG</td>\n",
       "      <td>10</td>\n",
       "      <td>1/4/2011 10:00</td>\n",
       "      <td>1.25</td>\n",
       "      <td>13313.0</td>\n",
       "      <td>United Kingdom</td>\n",
       "    </tr>\n",
       "  </tbody>\n",
       "</table>\n",
       "</div>"
      ],
      "text/plain": [
       "  InvoiceNo StockCode                Description  Quantity     InvoiceDate  \\\n",
       "0    539993     22386    JUMBO BAG PINK POLKADOT        10  1/4/2011 10:00   \n",
       "1    539993     21499         BLUE POLKADOT WRAP        25  1/4/2011 10:00   \n",
       "2    539993     21498        RED RETROSPOT WRAP         25  1/4/2011 10:00   \n",
       "3    539993     22379   RECYCLING BAG RETROSPOT          5  1/4/2011 10:00   \n",
       "4    539993     20718  RED RETROSPOT SHOPPER BAG        10  1/4/2011 10:00   \n",
       "\n",
       "   UnitPrice  CustomerID         Country  \n",
       "0       1.95     13313.0  United Kingdom  \n",
       "1       0.42     13313.0  United Kingdom  \n",
       "2       0.42     13313.0  United Kingdom  \n",
       "3       2.10     13313.0  United Kingdom  \n",
       "4       1.25     13313.0  United Kingdom  "
      ]
     },
     "execution_count": 4,
     "metadata": {},
     "output_type": "execute_result"
    }
   ],
   "source": [
    "df = pd.read_csv(r\"D:\\OnlineRetail.csv\",encoding= 'unicode_escape')\n",
    "df.head()"
   ]
  },
  {
   "cell_type": "code",
   "execution_count": 5,
   "metadata": {},
   "outputs": [
    {
     "data": {
      "text/html": [
       "<div>\n",
       "<style scoped>\n",
       "    .dataframe tbody tr th:only-of-type {\n",
       "        vertical-align: middle;\n",
       "    }\n",
       "\n",
       "    .dataframe tbody tr th {\n",
       "        vertical-align: top;\n",
       "    }\n",
       "\n",
       "    .dataframe thead th {\n",
       "        text-align: right;\n",
       "    }\n",
       "</style>\n",
       "<table border=\"1\" class=\"dataframe\">\n",
       "  <thead>\n",
       "    <tr style=\"text-align: right;\">\n",
       "      <th></th>\n",
       "      <th>InvoiceNo</th>\n",
       "      <th>StockCode</th>\n",
       "      <th>Description</th>\n",
       "      <th>Quantity</th>\n",
       "      <th>InvoiceDate</th>\n",
       "      <th>UnitPrice</th>\n",
       "      <th>CustomerID</th>\n",
       "      <th>Country</th>\n",
       "    </tr>\n",
       "  </thead>\n",
       "  <tbody>\n",
       "    <tr>\n",
       "      <th>499423</th>\n",
       "      <td>581587</td>\n",
       "      <td>22613</td>\n",
       "      <td>PACK OF 20 SPACEBOY NAPKINS</td>\n",
       "      <td>12</td>\n",
       "      <td>12/9/2011 12:50</td>\n",
       "      <td>0.85</td>\n",
       "      <td>12680.0</td>\n",
       "      <td>France</td>\n",
       "    </tr>\n",
       "    <tr>\n",
       "      <th>499424</th>\n",
       "      <td>581587</td>\n",
       "      <td>22899</td>\n",
       "      <td>CHILDREN'S APRON DOLLY GIRL</td>\n",
       "      <td>6</td>\n",
       "      <td>12/9/2011 12:50</td>\n",
       "      <td>2.10</td>\n",
       "      <td>12680.0</td>\n",
       "      <td>France</td>\n",
       "    </tr>\n",
       "    <tr>\n",
       "      <th>499425</th>\n",
       "      <td>581587</td>\n",
       "      <td>23254</td>\n",
       "      <td>CHILDRENS CUTLERY DOLLY GIRL</td>\n",
       "      <td>4</td>\n",
       "      <td>12/9/2011 12:50</td>\n",
       "      <td>4.15</td>\n",
       "      <td>12680.0</td>\n",
       "      <td>France</td>\n",
       "    </tr>\n",
       "    <tr>\n",
       "      <th>499426</th>\n",
       "      <td>581587</td>\n",
       "      <td>23255</td>\n",
       "      <td>CHILDRENS CUTLERY CIRCUS PARADE</td>\n",
       "      <td>4</td>\n",
       "      <td>12/9/2011 12:50</td>\n",
       "      <td>4.15</td>\n",
       "      <td>12680.0</td>\n",
       "      <td>France</td>\n",
       "    </tr>\n",
       "    <tr>\n",
       "      <th>499427</th>\n",
       "      <td>581587</td>\n",
       "      <td>22138</td>\n",
       "      <td>BAKING SET 9 PIECE RETROSPOT</td>\n",
       "      <td>3</td>\n",
       "      <td>12/9/2011 12:50</td>\n",
       "      <td>4.95</td>\n",
       "      <td>12680.0</td>\n",
       "      <td>France</td>\n",
       "    </tr>\n",
       "  </tbody>\n",
       "</table>\n",
       "</div>"
      ],
      "text/plain": [
       "       InvoiceNo StockCode                      Description  Quantity  \\\n",
       "499423    581587     22613      PACK OF 20 SPACEBOY NAPKINS        12   \n",
       "499424    581587     22899     CHILDREN'S APRON DOLLY GIRL          6   \n",
       "499425    581587     23254    CHILDRENS CUTLERY DOLLY GIRL          4   \n",
       "499426    581587     23255  CHILDRENS CUTLERY CIRCUS PARADE         4   \n",
       "499427    581587     22138    BAKING SET 9 PIECE RETROSPOT          3   \n",
       "\n",
       "            InvoiceDate  UnitPrice  CustomerID Country  \n",
       "499423  12/9/2011 12:50       0.85     12680.0  France  \n",
       "499424  12/9/2011 12:50       2.10     12680.0  France  \n",
       "499425  12/9/2011 12:50       4.15     12680.0  France  \n",
       "499426  12/9/2011 12:50       4.15     12680.0  France  \n",
       "499427  12/9/2011 12:50       4.95     12680.0  France  "
      ]
     },
     "execution_count": 5,
     "metadata": {},
     "output_type": "execute_result"
    }
   ],
   "source": [
    "df.tail()"
   ]
  },
  {
   "cell_type": "code",
   "execution_count": 6,
   "metadata": {},
   "outputs": [
    {
     "data": {
      "text/plain": [
       "Index(['InvoiceNo', 'StockCode', 'Description', 'Quantity', 'InvoiceDate',\n",
       "       'UnitPrice', 'CustomerID', 'Country'],\n",
       "      dtype='object')"
      ]
     },
     "execution_count": 6,
     "metadata": {},
     "output_type": "execute_result"
    }
   ],
   "source": [
    "df.columns"
   ]
  },
  {
   "cell_type": "code",
   "execution_count": 7,
   "metadata": {},
   "outputs": [
    {
     "name": "stdout",
     "output_type": "stream",
     "text": [
      "<class 'pandas.core.frame.DataFrame'>\n",
      "RangeIndex: 499428 entries, 0 to 499427\n",
      "Data columns (total 8 columns):\n",
      " #   Column       Non-Null Count   Dtype  \n",
      "---  ------       --------------   -----  \n",
      " 0   InvoiceNo    499428 non-null  object \n",
      " 1   StockCode    499428 non-null  object \n",
      " 2   Description  498099 non-null  object \n",
      " 3   Quantity     499428 non-null  int64  \n",
      " 4   InvoiceDate  499428 non-null  object \n",
      " 5   UnitPrice    499428 non-null  float64\n",
      " 6   CustomerID   379979 non-null  float64\n",
      " 7   Country      499428 non-null  object \n",
      "dtypes: float64(2), int64(1), object(5)\n",
      "memory usage: 30.5+ MB\n"
     ]
    }
   ],
   "source": [
    "df.info()"
   ]
  },
  {
   "cell_type": "code",
   "execution_count": 8,
   "metadata": {},
   "outputs": [
    {
     "data": {
      "text/plain": [
       "InvoiceNo           0\n",
       "StockCode           0\n",
       "Description      1329\n",
       "Quantity            0\n",
       "InvoiceDate         0\n",
       "UnitPrice           0\n",
       "CustomerID     119449\n",
       "Country             0\n",
       "dtype: int64"
      ]
     },
     "execution_count": 8,
     "metadata": {},
     "output_type": "execute_result"
    }
   ],
   "source": [
    "df.isnull().sum()"
   ]
  },
  {
   "cell_type": "code",
   "execution_count": 9,
   "metadata": {},
   "outputs": [
    {
     "name": "stdout",
     "output_type": "stream",
     "text": [
      "<class 'pandas.core.frame.DataFrame'>\n",
      "Int64Index: 379979 entries, 0 to 499427\n",
      "Data columns (total 8 columns):\n",
      " #   Column       Non-Null Count   Dtype  \n",
      "---  ------       --------------   -----  \n",
      " 0   InvoiceNo    379979 non-null  object \n",
      " 1   StockCode    379979 non-null  object \n",
      " 2   Description  379979 non-null  object \n",
      " 3   Quantity     379979 non-null  int64  \n",
      " 4   InvoiceDate  379979 non-null  object \n",
      " 5   UnitPrice    379979 non-null  float64\n",
      " 6   CustomerID   379979 non-null  float64\n",
      " 7   Country      379979 non-null  object \n",
      "dtypes: float64(2), int64(1), object(5)\n",
      "memory usage: 26.1+ MB\n"
     ]
    }
   ],
   "source": [
    "df = df.dropna()\n",
    "df.info()"
   ]
  },
  {
   "cell_type": "code",
   "execution_count": 10,
   "metadata": {},
   "outputs": [
    {
     "data": {
      "text/plain": [
       "InvoiceNo      0\n",
       "StockCode      0\n",
       "Description    0\n",
       "Quantity       0\n",
       "InvoiceDate    0\n",
       "UnitPrice      0\n",
       "CustomerID     0\n",
       "Country        0\n",
       "dtype: int64"
      ]
     },
     "execution_count": 10,
     "metadata": {},
     "output_type": "execute_result"
    }
   ],
   "source": [
    "df.isnull().sum()"
   ]
  },
  {
   "cell_type": "code",
   "execution_count": 11,
   "metadata": {},
   "outputs": [
    {
     "data": {
      "text/plain": [
       "InvoiceNo      0\n",
       "StockCode      0\n",
       "Description    0\n",
       "Quantity       0\n",
       "InvoiceDate    0\n",
       "UnitPrice      0\n",
       "CustomerID     0\n",
       "Country        0\n",
       "dtype: int64"
      ]
     },
     "execution_count": 11,
     "metadata": {},
     "output_type": "execute_result"
    }
   ],
   "source": [
    "df.isna().sum()"
   ]
  },
  {
   "cell_type": "code",
   "execution_count": 12,
   "metadata": {},
   "outputs": [
    {
     "data": {
      "text/html": [
       "<div>\n",
       "<style scoped>\n",
       "    .dataframe tbody tr th:only-of-type {\n",
       "        vertical-align: middle;\n",
       "    }\n",
       "\n",
       "    .dataframe tbody tr th {\n",
       "        vertical-align: top;\n",
       "    }\n",
       "\n",
       "    .dataframe thead th {\n",
       "        text-align: right;\n",
       "    }\n",
       "</style>\n",
       "<table border=\"1\" class=\"dataframe\">\n",
       "  <thead>\n",
       "    <tr style=\"text-align: right;\">\n",
       "      <th></th>\n",
       "      <th>InvoiceNo</th>\n",
       "      <th>StockCode</th>\n",
       "      <th>Description</th>\n",
       "      <th>Quantity</th>\n",
       "      <th>InvoiceDate</th>\n",
       "      <th>UnitPrice</th>\n",
       "      <th>CustomerID</th>\n",
       "      <th>Country</th>\n",
       "    </tr>\n",
       "  </thead>\n",
       "  <tbody>\n",
       "    <tr>\n",
       "      <th>0</th>\n",
       "      <td>539993</td>\n",
       "      <td>22386</td>\n",
       "      <td>JUMBO BAG PINK POLKADOT</td>\n",
       "      <td>10</td>\n",
       "      <td>1/4/2011 10:00</td>\n",
       "      <td>1.95</td>\n",
       "      <td>13313.0</td>\n",
       "      <td>United Kingdom</td>\n",
       "    </tr>\n",
       "    <tr>\n",
       "      <th>1</th>\n",
       "      <td>539993</td>\n",
       "      <td>21499</td>\n",
       "      <td>BLUE POLKADOT WRAP</td>\n",
       "      <td>25</td>\n",
       "      <td>1/4/2011 10:00</td>\n",
       "      <td>0.42</td>\n",
       "      <td>13313.0</td>\n",
       "      <td>United Kingdom</td>\n",
       "    </tr>\n",
       "    <tr>\n",
       "      <th>2</th>\n",
       "      <td>539993</td>\n",
       "      <td>21498</td>\n",
       "      <td>RED RETROSPOT WRAP</td>\n",
       "      <td>25</td>\n",
       "      <td>1/4/2011 10:00</td>\n",
       "      <td>0.42</td>\n",
       "      <td>13313.0</td>\n",
       "      <td>United Kingdom</td>\n",
       "    </tr>\n",
       "    <tr>\n",
       "      <th>3</th>\n",
       "      <td>539993</td>\n",
       "      <td>22379</td>\n",
       "      <td>RECYCLING BAG RETROSPOT</td>\n",
       "      <td>5</td>\n",
       "      <td>1/4/2011 10:00</td>\n",
       "      <td>2.10</td>\n",
       "      <td>13313.0</td>\n",
       "      <td>United Kingdom</td>\n",
       "    </tr>\n",
       "    <tr>\n",
       "      <th>4</th>\n",
       "      <td>539993</td>\n",
       "      <td>20718</td>\n",
       "      <td>RED RETROSPOT SHOPPER BAG</td>\n",
       "      <td>10</td>\n",
       "      <td>1/4/2011 10:00</td>\n",
       "      <td>1.25</td>\n",
       "      <td>13313.0</td>\n",
       "      <td>United Kingdom</td>\n",
       "    </tr>\n",
       "    <tr>\n",
       "      <th>5</th>\n",
       "      <td>539993</td>\n",
       "      <td>85099B</td>\n",
       "      <td>JUMBO BAG RED RETROSPOT</td>\n",
       "      <td>10</td>\n",
       "      <td>1/4/2011 10:00</td>\n",
       "      <td>1.95</td>\n",
       "      <td>13313.0</td>\n",
       "      <td>United Kingdom</td>\n",
       "    </tr>\n",
       "    <tr>\n",
       "      <th>6</th>\n",
       "      <td>539993</td>\n",
       "      <td>20682</td>\n",
       "      <td>RED RETROSPOT CHILDRENS UMBRELLA</td>\n",
       "      <td>6</td>\n",
       "      <td>1/4/2011 10:00</td>\n",
       "      <td>3.25</td>\n",
       "      <td>13313.0</td>\n",
       "      <td>United Kingdom</td>\n",
       "    </tr>\n",
       "    <tr>\n",
       "      <th>7</th>\n",
       "      <td>539993</td>\n",
       "      <td>22961</td>\n",
       "      <td>JAM MAKING SET PRINTED</td>\n",
       "      <td>12</td>\n",
       "      <td>1/4/2011 10:00</td>\n",
       "      <td>1.45</td>\n",
       "      <td>13313.0</td>\n",
       "      <td>United Kingdom</td>\n",
       "    </tr>\n",
       "    <tr>\n",
       "      <th>8</th>\n",
       "      <td>539993</td>\n",
       "      <td>22667</td>\n",
       "      <td>RECIPE BOX RETROSPOT</td>\n",
       "      <td>6</td>\n",
       "      <td>1/4/2011 10:00</td>\n",
       "      <td>2.95</td>\n",
       "      <td>13313.0</td>\n",
       "      <td>United Kingdom</td>\n",
       "    </tr>\n",
       "    <tr>\n",
       "      <th>9</th>\n",
       "      <td>539993</td>\n",
       "      <td>22898</td>\n",
       "      <td>CHILDRENS APRON APPLES DESIGN</td>\n",
       "      <td>8</td>\n",
       "      <td>1/4/2011 10:00</td>\n",
       "      <td>1.95</td>\n",
       "      <td>13313.0</td>\n",
       "      <td>United Kingdom</td>\n",
       "    </tr>\n",
       "    <tr>\n",
       "      <th>10</th>\n",
       "      <td>539993</td>\n",
       "      <td>22896</td>\n",
       "      <td>PEG BAG APPLES DESIGN</td>\n",
       "      <td>6</td>\n",
       "      <td>1/4/2011 10:00</td>\n",
       "      <td>2.55</td>\n",
       "      <td>13313.0</td>\n",
       "      <td>United Kingdom</td>\n",
       "    </tr>\n",
       "    <tr>\n",
       "      <th>11</th>\n",
       "      <td>539993</td>\n",
       "      <td>22303</td>\n",
       "      <td>COFFEE MUG APPLES DESIGN</td>\n",
       "      <td>6</td>\n",
       "      <td>1/4/2011 10:00</td>\n",
       "      <td>2.55</td>\n",
       "      <td>13313.0</td>\n",
       "      <td>United Kingdom</td>\n",
       "    </tr>\n",
       "    <tr>\n",
       "      <th>12</th>\n",
       "      <td>539993</td>\n",
       "      <td>22302</td>\n",
       "      <td>COFFEE MUG PEARS  DESIGN</td>\n",
       "      <td>6</td>\n",
       "      <td>1/4/2011 10:00</td>\n",
       "      <td>2.55</td>\n",
       "      <td>13313.0</td>\n",
       "      <td>United Kingdom</td>\n",
       "    </tr>\n",
       "    <tr>\n",
       "      <th>13</th>\n",
       "      <td>539993</td>\n",
       "      <td>85123A</td>\n",
       "      <td>WHITE HANGING HEART T-LIGHT HOLDER</td>\n",
       "      <td>12</td>\n",
       "      <td>1/4/2011 10:00</td>\n",
       "      <td>2.95</td>\n",
       "      <td>13313.0</td>\n",
       "      <td>United Kingdom</td>\n",
       "    </tr>\n",
       "    <tr>\n",
       "      <th>14</th>\n",
       "      <td>539993</td>\n",
       "      <td>22808</td>\n",
       "      <td>SET OF 6 T-LIGHTS EASTER CHICKS</td>\n",
       "      <td>12</td>\n",
       "      <td>1/4/2011 10:00</td>\n",
       "      <td>2.95</td>\n",
       "      <td>13313.0</td>\n",
       "      <td>United Kingdom</td>\n",
       "    </tr>\n",
       "    <tr>\n",
       "      <th>15</th>\n",
       "      <td>539993</td>\n",
       "      <td>22458</td>\n",
       "      <td>CAST IRON HOOK GARDEN FORK</td>\n",
       "      <td>8</td>\n",
       "      <td>1/4/2011 10:00</td>\n",
       "      <td>2.55</td>\n",
       "      <td>13313.0</td>\n",
       "      <td>United Kingdom</td>\n",
       "    </tr>\n",
       "    <tr>\n",
       "      <th>16</th>\n",
       "      <td>539993</td>\n",
       "      <td>22862</td>\n",
       "      <td>LOVE HEART NAPKIN BOX</td>\n",
       "      <td>4</td>\n",
       "      <td>1/4/2011 10:00</td>\n",
       "      <td>4.25</td>\n",
       "      <td>13313.0</td>\n",
       "      <td>United Kingdom</td>\n",
       "    </tr>\n",
       "    <tr>\n",
       "      <th>24</th>\n",
       "      <td>540001</td>\n",
       "      <td>21733</td>\n",
       "      <td>RED HANGING HEART T-LIGHT HOLDER</td>\n",
       "      <td>32</td>\n",
       "      <td>1/4/2011 10:22</td>\n",
       "      <td>2.55</td>\n",
       "      <td>18097.0</td>\n",
       "      <td>United Kingdom</td>\n",
       "    </tr>\n",
       "    <tr>\n",
       "      <th>25</th>\n",
       "      <td>540001</td>\n",
       "      <td>22062</td>\n",
       "      <td>CERAMIC BOWL WITH LOVE HEART DESIGN</td>\n",
       "      <td>24</td>\n",
       "      <td>1/4/2011 10:22</td>\n",
       "      <td>2.95</td>\n",
       "      <td>18097.0</td>\n",
       "      <td>United Kingdom</td>\n",
       "    </tr>\n",
       "    <tr>\n",
       "      <th>26</th>\n",
       "      <td>540001</td>\n",
       "      <td>22060</td>\n",
       "      <td>LARGE CAKE STAND HANGING HEARTS</td>\n",
       "      <td>6</td>\n",
       "      <td>1/4/2011 10:22</td>\n",
       "      <td>9.95</td>\n",
       "      <td>18097.0</td>\n",
       "      <td>United Kingdom</td>\n",
       "    </tr>\n",
       "  </tbody>\n",
       "</table>\n",
       "</div>"
      ],
      "text/plain": [
       "   InvoiceNo StockCode                          Description  Quantity  \\\n",
       "0     539993     22386              JUMBO BAG PINK POLKADOT        10   \n",
       "1     539993     21499                   BLUE POLKADOT WRAP        25   \n",
       "2     539993     21498                  RED RETROSPOT WRAP         25   \n",
       "3     539993     22379             RECYCLING BAG RETROSPOT          5   \n",
       "4     539993     20718            RED RETROSPOT SHOPPER BAG        10   \n",
       "5     539993    85099B              JUMBO BAG RED RETROSPOT        10   \n",
       "6     539993     20682     RED RETROSPOT CHILDRENS UMBRELLA         6   \n",
       "7     539993     22961               JAM MAKING SET PRINTED        12   \n",
       "8     539993     22667                RECIPE BOX RETROSPOT          6   \n",
       "9     539993     22898        CHILDRENS APRON APPLES DESIGN         8   \n",
       "10    539993     22896                PEG BAG APPLES DESIGN         6   \n",
       "11    539993     22303             COFFEE MUG APPLES DESIGN         6   \n",
       "12    539993     22302             COFFEE MUG PEARS  DESIGN         6   \n",
       "13    539993    85123A   WHITE HANGING HEART T-LIGHT HOLDER        12   \n",
       "14    539993     22808      SET OF 6 T-LIGHTS EASTER CHICKS        12   \n",
       "15    539993     22458           CAST IRON HOOK GARDEN FORK         8   \n",
       "16    539993     22862               LOVE HEART NAPKIN BOX          4   \n",
       "24    540001     21733     RED HANGING HEART T-LIGHT HOLDER        32   \n",
       "25    540001     22062  CERAMIC BOWL WITH LOVE HEART DESIGN        24   \n",
       "26    540001     22060      LARGE CAKE STAND HANGING HEARTS         6   \n",
       "\n",
       "       InvoiceDate  UnitPrice  CustomerID         Country  \n",
       "0   1/4/2011 10:00       1.95     13313.0  United Kingdom  \n",
       "1   1/4/2011 10:00       0.42     13313.0  United Kingdom  \n",
       "2   1/4/2011 10:00       0.42     13313.0  United Kingdom  \n",
       "3   1/4/2011 10:00       2.10     13313.0  United Kingdom  \n",
       "4   1/4/2011 10:00       1.25     13313.0  United Kingdom  \n",
       "5   1/4/2011 10:00       1.95     13313.0  United Kingdom  \n",
       "6   1/4/2011 10:00       3.25     13313.0  United Kingdom  \n",
       "7   1/4/2011 10:00       1.45     13313.0  United Kingdom  \n",
       "8   1/4/2011 10:00       2.95     13313.0  United Kingdom  \n",
       "9   1/4/2011 10:00       1.95     13313.0  United Kingdom  \n",
       "10  1/4/2011 10:00       2.55     13313.0  United Kingdom  \n",
       "11  1/4/2011 10:00       2.55     13313.0  United Kingdom  \n",
       "12  1/4/2011 10:00       2.55     13313.0  United Kingdom  \n",
       "13  1/4/2011 10:00       2.95     13313.0  United Kingdom  \n",
       "14  1/4/2011 10:00       2.95     13313.0  United Kingdom  \n",
       "15  1/4/2011 10:00       2.55     13313.0  United Kingdom  \n",
       "16  1/4/2011 10:00       4.25     13313.0  United Kingdom  \n",
       "24  1/4/2011 10:22       2.55     18097.0  United Kingdom  \n",
       "25  1/4/2011 10:22       2.95     18097.0  United Kingdom  \n",
       "26  1/4/2011 10:22       9.95     18097.0  United Kingdom  "
      ]
     },
     "execution_count": 12,
     "metadata": {},
     "output_type": "execute_result"
    }
   ],
   "source": [
    "df.head(20)"
   ]
  },
  {
   "cell_type": "code",
   "execution_count": 13,
   "metadata": {},
   "outputs": [
    {
     "data": {
      "text/plain": [
       "InvoiceNo       object\n",
       "StockCode       object\n",
       "Description     object\n",
       "Quantity         int64\n",
       "InvoiceDate     object\n",
       "UnitPrice      float64\n",
       "CustomerID     float64\n",
       "Country         object\n",
       "dtype: object"
      ]
     },
     "execution_count": 13,
     "metadata": {},
     "output_type": "execute_result"
    }
   ],
   "source": [
    "df.dtypes"
   ]
  },
  {
   "cell_type": "code",
   "execution_count": 14,
   "metadata": {},
   "outputs": [],
   "source": [
    "df = df.astype({\"CustomerID\": \"int\"})"
   ]
  },
  {
   "cell_type": "code",
   "execution_count": 15,
   "metadata": {},
   "outputs": [
    {
     "name": "stdout",
     "output_type": "stream",
     "text": [
      "<class 'pandas.core.frame.DataFrame'>\n",
      "Int64Index: 379979 entries, 0 to 499427\n",
      "Data columns (total 8 columns):\n",
      " #   Column       Non-Null Count   Dtype         \n",
      "---  ------       --------------   -----         \n",
      " 0   InvoiceNo    379979 non-null  object        \n",
      " 1   StockCode    379979 non-null  object        \n",
      " 2   Description  379979 non-null  object        \n",
      " 3   Quantity     379979 non-null  int64         \n",
      " 4   InvoiceDate  379979 non-null  datetime64[ns]\n",
      " 5   UnitPrice    379979 non-null  float64       \n",
      " 6   CustomerID   379979 non-null  int32         \n",
      " 7   Country      379979 non-null  object        \n",
      "dtypes: datetime64[ns](1), float64(1), int32(1), int64(1), object(4)\n",
      "memory usage: 24.6+ MB\n"
     ]
    }
   ],
   "source": [
    "df[\"InvoiceDate\"] = pd.to_datetime(df[\"InvoiceDate\"])\n",
    "df.info()"
   ]
  },
  {
   "cell_type": "code",
   "execution_count": 16,
   "metadata": {},
   "outputs": [],
   "source": [
    "df = df.drop_duplicates(keep = \"first\")"
   ]
  },
  {
   "cell_type": "code",
   "execution_count": 17,
   "metadata": {},
   "outputs": [
    {
     "name": "stdout",
     "output_type": "stream",
     "text": [
      "<class 'pandas.core.frame.DataFrame'>\n",
      "Int64Index: 375250 entries, 0 to 499427\n",
      "Data columns (total 8 columns):\n",
      " #   Column       Non-Null Count   Dtype         \n",
      "---  ------       --------------   -----         \n",
      " 0   InvoiceNo    375250 non-null  object        \n",
      " 1   StockCode    375250 non-null  object        \n",
      " 2   Description  375250 non-null  object        \n",
      " 3   Quantity     375250 non-null  int64         \n",
      " 4   InvoiceDate  375250 non-null  datetime64[ns]\n",
      " 5   UnitPrice    375250 non-null  float64       \n",
      " 6   CustomerID   375250 non-null  int32         \n",
      " 7   Country      375250 non-null  object        \n",
      "dtypes: datetime64[ns](1), float64(1), int32(1), int64(1), object(4)\n",
      "memory usage: 24.3+ MB\n"
     ]
    }
   ],
   "source": [
    "df.info()"
   ]
  },
  {
   "cell_type": "code",
   "execution_count": 18,
   "metadata": {},
   "outputs": [
    {
     "data": {
      "text/plain": [
       "InvoiceNo      20482\n",
       "StockCode       3612\n",
       "Description     3800\n",
       "Quantity         425\n",
       "InvoiceDate    18909\n",
       "UnitPrice        601\n",
       "CustomerID      4244\n",
       "Country           36\n",
       "dtype: int64"
      ]
     },
     "execution_count": 18,
     "metadata": {},
     "output_type": "execute_result"
    }
   ],
   "source": [
    "df.nunique(axis=0)"
   ]
  },
  {
   "cell_type": "code",
   "execution_count": 19,
   "metadata": {},
   "outputs": [
    {
     "data": {
      "text/plain": [
       "(375250, 8)"
      ]
     },
     "execution_count": 19,
     "metadata": {},
     "output_type": "execute_result"
    }
   ],
   "source": [
    "df.shape"
   ]
  },
  {
   "cell_type": "code",
   "execution_count": 20,
   "metadata": {},
   "outputs": [
    {
     "data": {
      "text/plain": [
       "United Kingdom          332685\n",
       "Germany                   8916\n",
       "France                    8036\n",
       "EIRE                      7113\n",
       "Spain                     2453\n",
       "Netherlands               2299\n",
       "Belgium                   1974\n",
       "Switzerland               1828\n",
       "Portugal                  1351\n",
       "Australia                 1224\n",
       "Norway                     939\n",
       "Italy                      762\n",
       "Channel Islands            740\n",
       "Finland                    678\n",
       "Cyprus                     529\n",
       "Sweden                     434\n",
       "Austria                    392\n",
       "Denmark                    369\n",
       "Poland                     333\n",
       "Japan                      293\n",
       "USA                        291\n",
       "Israel                     245\n",
       "Unspecified                241\n",
       "Singapore                  229\n",
       "Canada                     151\n",
       "Iceland                    151\n",
       "Greece                     146\n",
       "Malta                      127\n",
       "United Arab Emirates        68\n",
       "European Community          61\n",
       "RSA                         58\n",
       "Lebanon                     45\n",
       "Brazil                      32\n",
       "Czech Republic              30\n",
       "Bahrain                     17\n",
       "Saudi Arabia                10\n",
       "Name: Country, dtype: int64"
      ]
     },
     "execution_count": 20,
     "metadata": {},
     "output_type": "execute_result"
    }
   ],
   "source": [
    "df[\"Country\"].value_counts()"
   ]
  },
  {
   "cell_type": "code",
   "execution_count": 21,
   "metadata": {},
   "outputs": [
    {
     "data": {
      "text/plain": [
       "576339     542\n",
       "579196     533\n",
       "580727     529\n",
       "578270     442\n",
       "573576     435\n",
       "          ... \n",
       "C560645      1\n",
       "551290       1\n",
       "C554011      1\n",
       "577011       1\n",
       "C543834      1\n",
       "Name: InvoiceNo, Length: 20482, dtype: int64"
      ]
     },
     "execution_count": 21,
     "metadata": {},
     "output_type": "execute_result"
    }
   ],
   "source": [
    "df[\"InvoiceNo\"].value_counts()"
   ]
  },
  {
   "cell_type": "code",
   "execution_count": 22,
   "metadata": {},
   "outputs": [
    {
     "data": {
      "text/plain": [
       "2011-11-14 15:27:00    543\n",
       "2011-11-28 15:54:00    534\n",
       "2011-12-05 17:17:00    530\n",
       "2011-11-23 13:39:00    444\n",
       "2011-10-31 14:09:00    436\n",
       "                      ... \n",
       "2011-09-15 12:02:00      1\n",
       "2011-05-03 15:04:00      1\n",
       "2011-11-17 19:58:00      1\n",
       "2011-05-06 13:07:00      1\n",
       "2011-01-20 16:15:00      1\n",
       "Name: InvoiceDate, Length: 18909, dtype: int64"
      ]
     },
     "execution_count": 22,
     "metadata": {},
     "output_type": "execute_result"
    }
   ],
   "source": [
    "df[\"InvoiceDate\"].value_counts()"
   ]
  },
  {
   "cell_type": "code",
   "execution_count": 23,
   "metadata": {},
   "outputs": [
    {
     "data": {
      "text/plain": [
       "WHITE HANGING HEART T-LIGHT HOLDER     1845\n",
       "REGENCY CAKESTAND 3 TIER               1741\n",
       "JUMBO BAG RED RETROSPOT                1571\n",
       "PARTY BUNTING                          1386\n",
       "ASSORTED COLOUR BIRD ORNAMENT          1312\n",
       "                                       ... \n",
       "AMBER BERTIE GLASS BEAD BAG CHARM         1\n",
       "LETTER \"Z\" BLING KEY RING                 1\n",
       "PEARL & SHELL 42\"NECKL. GREEN             1\n",
       "SILVER/CRYSTAL DROP EARRINGS W LEAF       1\n",
       "POLYESTER FILLER PAD 60x40cm              1\n",
       "Name: Description, Length: 3800, dtype: int64"
      ]
     },
     "execution_count": 23,
     "metadata": {},
     "output_type": "execute_result"
    }
   ],
   "source": [
    "df[\"Description\"].value_counts()"
   ]
  },
  {
   "cell_type": "code",
   "execution_count": 24,
   "metadata": {
    "scrolled": true
   },
   "outputs": [
    {
     "data": {
      "text/plain": [
       "17841    7522\n",
       "14911    5580\n",
       "14096    5128\n",
       "12748    3805\n",
       "14606    2529\n",
       "         ... \n",
       "16737       1\n",
       "17331       1\n",
       "16144       1\n",
       "13841       1\n",
       "16428       1\n",
       "Name: CustomerID, Length: 4244, dtype: int64"
      ]
     },
     "execution_count": 24,
     "metadata": {},
     "output_type": "execute_result"
    }
   ],
   "source": [
    "df[\"CustomerID\"].value_counts()"
   ]
  },
  {
   "cell_type": "code",
   "execution_count": 25,
   "metadata": {},
   "outputs": [
    {
     "data": {
      "text/plain": [
       "-80995"
      ]
     },
     "execution_count": 25,
     "metadata": {},
     "output_type": "execute_result"
    }
   ],
   "source": [
    "df[\"Quantity\"].min()"
   ]
  },
  {
   "cell_type": "code",
   "execution_count": 26,
   "metadata": {},
   "outputs": [
    {
     "data": {
      "text/plain": [
       "0.0"
      ]
     },
     "execution_count": 26,
     "metadata": {},
     "output_type": "execute_result"
    }
   ],
   "source": [
    "df[\"UnitPrice\"].min()"
   ]
  },
  {
   "cell_type": "code",
   "execution_count": 27,
   "metadata": {},
   "outputs": [
    {
     "data": {
      "text/plain": [
       "(367059, 8)"
      ]
     },
     "execution_count": 27,
     "metadata": {},
     "output_type": "execute_result"
    }
   ],
   "source": [
    "df = df[df[\"Quantity\"]>0]\n",
    "df.shape"
   ]
  },
  {
   "cell_type": "code",
   "execution_count": 28,
   "metadata": {},
   "outputs": [],
   "source": [
    "df[\"Revenue\"] = df[\"UnitPrice\"]*df[\"Quantity\"]"
   ]
  },
  {
   "cell_type": "code",
   "execution_count": 29,
   "metadata": {
    "scrolled": true
   },
   "outputs": [
    {
     "data": {
      "text/html": [
       "<div>\n",
       "<style scoped>\n",
       "    .dataframe tbody tr th:only-of-type {\n",
       "        vertical-align: middle;\n",
       "    }\n",
       "\n",
       "    .dataframe tbody tr th {\n",
       "        vertical-align: top;\n",
       "    }\n",
       "\n",
       "    .dataframe thead th {\n",
       "        text-align: right;\n",
       "    }\n",
       "</style>\n",
       "<table border=\"1\" class=\"dataframe\">\n",
       "  <thead>\n",
       "    <tr style=\"text-align: right;\">\n",
       "      <th></th>\n",
       "      <th>InvoiceNo</th>\n",
       "      <th>StockCode</th>\n",
       "      <th>Description</th>\n",
       "      <th>Quantity</th>\n",
       "      <th>InvoiceDate</th>\n",
       "      <th>UnitPrice</th>\n",
       "      <th>CustomerID</th>\n",
       "      <th>Country</th>\n",
       "      <th>Revenue</th>\n",
       "      <th>Month</th>\n",
       "    </tr>\n",
       "  </thead>\n",
       "  <tbody>\n",
       "    <tr>\n",
       "      <th>0</th>\n",
       "      <td>539993</td>\n",
       "      <td>22386</td>\n",
       "      <td>JUMBO BAG PINK POLKADOT</td>\n",
       "      <td>10</td>\n",
       "      <td>2011-01-04 10:00:00</td>\n",
       "      <td>1.95</td>\n",
       "      <td>13313</td>\n",
       "      <td>United Kingdom</td>\n",
       "      <td>19.5</td>\n",
       "      <td>1</td>\n",
       "    </tr>\n",
       "    <tr>\n",
       "      <th>1</th>\n",
       "      <td>539993</td>\n",
       "      <td>21499</td>\n",
       "      <td>BLUE POLKADOT WRAP</td>\n",
       "      <td>25</td>\n",
       "      <td>2011-01-04 10:00:00</td>\n",
       "      <td>0.42</td>\n",
       "      <td>13313</td>\n",
       "      <td>United Kingdom</td>\n",
       "      <td>10.5</td>\n",
       "      <td>1</td>\n",
       "    </tr>\n",
       "    <tr>\n",
       "      <th>2</th>\n",
       "      <td>539993</td>\n",
       "      <td>21498</td>\n",
       "      <td>RED RETROSPOT WRAP</td>\n",
       "      <td>25</td>\n",
       "      <td>2011-01-04 10:00:00</td>\n",
       "      <td>0.42</td>\n",
       "      <td>13313</td>\n",
       "      <td>United Kingdom</td>\n",
       "      <td>10.5</td>\n",
       "      <td>1</td>\n",
       "    </tr>\n",
       "    <tr>\n",
       "      <th>3</th>\n",
       "      <td>539993</td>\n",
       "      <td>22379</td>\n",
       "      <td>RECYCLING BAG RETROSPOT</td>\n",
       "      <td>5</td>\n",
       "      <td>2011-01-04 10:00:00</td>\n",
       "      <td>2.10</td>\n",
       "      <td>13313</td>\n",
       "      <td>United Kingdom</td>\n",
       "      <td>10.5</td>\n",
       "      <td>1</td>\n",
       "    </tr>\n",
       "    <tr>\n",
       "      <th>4</th>\n",
       "      <td>539993</td>\n",
       "      <td>20718</td>\n",
       "      <td>RED RETROSPOT SHOPPER BAG</td>\n",
       "      <td>10</td>\n",
       "      <td>2011-01-04 10:00:00</td>\n",
       "      <td>1.25</td>\n",
       "      <td>13313</td>\n",
       "      <td>United Kingdom</td>\n",
       "      <td>12.5</td>\n",
       "      <td>1</td>\n",
       "    </tr>\n",
       "  </tbody>\n",
       "</table>\n",
       "</div>"
      ],
      "text/plain": [
       "  InvoiceNo StockCode                Description  Quantity  \\\n",
       "0    539993     22386    JUMBO BAG PINK POLKADOT        10   \n",
       "1    539993     21499         BLUE POLKADOT WRAP        25   \n",
       "2    539993     21498        RED RETROSPOT WRAP         25   \n",
       "3    539993     22379   RECYCLING BAG RETROSPOT          5   \n",
       "4    539993     20718  RED RETROSPOT SHOPPER BAG        10   \n",
       "\n",
       "          InvoiceDate  UnitPrice  CustomerID         Country  Revenue  Month  \n",
       "0 2011-01-04 10:00:00       1.95       13313  United Kingdom     19.5      1  \n",
       "1 2011-01-04 10:00:00       0.42       13313  United Kingdom     10.5      1  \n",
       "2 2011-01-04 10:00:00       0.42       13313  United Kingdom     10.5      1  \n",
       "3 2011-01-04 10:00:00       2.10       13313  United Kingdom     10.5      1  \n",
       "4 2011-01-04 10:00:00       1.25       13313  United Kingdom     12.5      1  "
      ]
     },
     "execution_count": 29,
     "metadata": {},
     "output_type": "execute_result"
    }
   ],
   "source": [
    "df[\"Month\"] = pd.DatetimeIndex(df[\"InvoiceDate\"]).month\n",
    "df.head()"
   ]
  },
  {
   "cell_type": "code",
   "execution_count": 30,
   "metadata": {},
   "outputs": [
    {
     "data": {
      "text/plain": [
       "Timedelta('339 days 02:50:00')"
      ]
     },
     "execution_count": 30,
     "metadata": {},
     "output_type": "execute_result"
    }
   ],
   "source": [
    "x= df[\"InvoiceDate\"].max()-df[\"InvoiceDate\"].min()\n",
    "x"
   ]
  },
  {
   "cell_type": "code",
   "execution_count": 31,
   "metadata": {},
   "outputs": [],
   "source": [
    "df[\"days\"] = df[\"InvoiceDate\"].max()-df[\"InvoiceDate\"].min()"
   ]
  },
  {
   "cell_type": "code",
   "execution_count": 32,
   "metadata": {},
   "outputs": [
    {
     "data": {
      "text/plain": [
       "CustomerID  days             \n",
       "12346       339 days 02:50:00      1\n",
       "12347       339 days 02:50:00    151\n",
       "12348       339 days 02:50:00     14\n",
       "12349       339 days 02:50:00     73\n",
       "12350       339 days 02:50:00     17\n",
       "                                ... \n",
       "18280       339 days 02:50:00     10\n",
       "18281       339 days 02:50:00      7\n",
       "18282       339 days 02:50:00     12\n",
       "18283       339 days 02:50:00    721\n",
       "18287       339 days 02:50:00     70\n",
       "Name: days, Length: 4220, dtype: int64"
      ]
     },
     "execution_count": 32,
     "metadata": {},
     "output_type": "execute_result"
    }
   ],
   "source": [
    "df.groupby(\"CustomerID\")[\"days\"].value_counts()"
   ]
  },
  {
   "cell_type": "code",
   "execution_count": null,
   "metadata": {},
   "outputs": [],
   "source": []
  },
  {
   "cell_type": "code",
   "execution_count": 33,
   "metadata": {},
   "outputs": [
    {
     "data": {
      "text/html": [
       "<div>\n",
       "<style scoped>\n",
       "    .dataframe tbody tr th:only-of-type {\n",
       "        vertical-align: middle;\n",
       "    }\n",
       "\n",
       "    .dataframe tbody tr th {\n",
       "        vertical-align: top;\n",
       "    }\n",
       "\n",
       "    .dataframe thead th {\n",
       "        text-align: right;\n",
       "    }\n",
       "</style>\n",
       "<table border=\"1\" class=\"dataframe\">\n",
       "  <thead>\n",
       "    <tr style=\"text-align: right;\">\n",
       "      <th></th>\n",
       "      <th>InvoiceNo</th>\n",
       "      <th>StockCode</th>\n",
       "      <th>Description</th>\n",
       "      <th>Quantity</th>\n",
       "      <th>InvoiceDate</th>\n",
       "      <th>UnitPrice</th>\n",
       "      <th>CustomerID</th>\n",
       "      <th>Country</th>\n",
       "      <th>Revenue</th>\n",
       "      <th>Month</th>\n",
       "      <th>days</th>\n",
       "    </tr>\n",
       "  </thead>\n",
       "  <tbody>\n",
       "    <tr>\n",
       "      <th>0</th>\n",
       "      <td>539993</td>\n",
       "      <td>22386</td>\n",
       "      <td>JUMBO BAG PINK POLKADOT</td>\n",
       "      <td>10</td>\n",
       "      <td>2011-01-04 10:00:00</td>\n",
       "      <td>1.95</td>\n",
       "      <td>13313</td>\n",
       "      <td>United Kingdom</td>\n",
       "      <td>19.5</td>\n",
       "      <td>1</td>\n",
       "      <td>339 days 02:50:00</td>\n",
       "    </tr>\n",
       "    <tr>\n",
       "      <th>1</th>\n",
       "      <td>539993</td>\n",
       "      <td>21499</td>\n",
       "      <td>BLUE POLKADOT WRAP</td>\n",
       "      <td>25</td>\n",
       "      <td>2011-01-04 10:00:00</td>\n",
       "      <td>0.42</td>\n",
       "      <td>13313</td>\n",
       "      <td>United Kingdom</td>\n",
       "      <td>10.5</td>\n",
       "      <td>1</td>\n",
       "      <td>339 days 02:50:00</td>\n",
       "    </tr>\n",
       "    <tr>\n",
       "      <th>2</th>\n",
       "      <td>539993</td>\n",
       "      <td>21498</td>\n",
       "      <td>RED RETROSPOT WRAP</td>\n",
       "      <td>25</td>\n",
       "      <td>2011-01-04 10:00:00</td>\n",
       "      <td>0.42</td>\n",
       "      <td>13313</td>\n",
       "      <td>United Kingdom</td>\n",
       "      <td>10.5</td>\n",
       "      <td>1</td>\n",
       "      <td>339 days 02:50:00</td>\n",
       "    </tr>\n",
       "    <tr>\n",
       "      <th>3</th>\n",
       "      <td>539993</td>\n",
       "      <td>22379</td>\n",
       "      <td>RECYCLING BAG RETROSPOT</td>\n",
       "      <td>5</td>\n",
       "      <td>2011-01-04 10:00:00</td>\n",
       "      <td>2.10</td>\n",
       "      <td>13313</td>\n",
       "      <td>United Kingdom</td>\n",
       "      <td>10.5</td>\n",
       "      <td>1</td>\n",
       "      <td>339 days 02:50:00</td>\n",
       "    </tr>\n",
       "    <tr>\n",
       "      <th>4</th>\n",
       "      <td>539993</td>\n",
       "      <td>20718</td>\n",
       "      <td>RED RETROSPOT SHOPPER BAG</td>\n",
       "      <td>10</td>\n",
       "      <td>2011-01-04 10:00:00</td>\n",
       "      <td>1.25</td>\n",
       "      <td>13313</td>\n",
       "      <td>United Kingdom</td>\n",
       "      <td>12.5</td>\n",
       "      <td>1</td>\n",
       "      <td>339 days 02:50:00</td>\n",
       "    </tr>\n",
       "  </tbody>\n",
       "</table>\n",
       "</div>"
      ],
      "text/plain": [
       "  InvoiceNo StockCode                Description  Quantity  \\\n",
       "0    539993     22386    JUMBO BAG PINK POLKADOT        10   \n",
       "1    539993     21499         BLUE POLKADOT WRAP        25   \n",
       "2    539993     21498        RED RETROSPOT WRAP         25   \n",
       "3    539993     22379   RECYCLING BAG RETROSPOT          5   \n",
       "4    539993     20718  RED RETROSPOT SHOPPER BAG        10   \n",
       "\n",
       "          InvoiceDate  UnitPrice  CustomerID         Country  Revenue  Month  \\\n",
       "0 2011-01-04 10:00:00       1.95       13313  United Kingdom     19.5      1   \n",
       "1 2011-01-04 10:00:00       0.42       13313  United Kingdom     10.5      1   \n",
       "2 2011-01-04 10:00:00       0.42       13313  United Kingdom     10.5      1   \n",
       "3 2011-01-04 10:00:00       2.10       13313  United Kingdom     10.5      1   \n",
       "4 2011-01-04 10:00:00       1.25       13313  United Kingdom     12.5      1   \n",
       "\n",
       "               days  \n",
       "0 339 days 02:50:00  \n",
       "1 339 days 02:50:00  \n",
       "2 339 days 02:50:00  \n",
       "3 339 days 02:50:00  \n",
       "4 339 days 02:50:00  "
      ]
     },
     "execution_count": 33,
     "metadata": {},
     "output_type": "execute_result"
    }
   ],
   "source": [
    "df.head()"
   ]
  },
  {
   "cell_type": "code",
   "execution_count": 34,
   "metadata": {},
   "outputs": [
    {
     "data": {
      "text/html": [
       "<div>\n",
       "<style scoped>\n",
       "    .dataframe tbody tr th:only-of-type {\n",
       "        vertical-align: middle;\n",
       "    }\n",
       "\n",
       "    .dataframe tbody tr th {\n",
       "        vertical-align: top;\n",
       "    }\n",
       "\n",
       "    .dataframe thead th {\n",
       "        text-align: right;\n",
       "    }\n",
       "</style>\n",
       "<table border=\"1\" class=\"dataframe\">\n",
       "  <thead>\n",
       "    <tr style=\"text-align: right;\">\n",
       "      <th></th>\n",
       "      <th>InvoiceNo</th>\n",
       "      <th>StockCode</th>\n",
       "      <th>Description</th>\n",
       "      <th>Quantity</th>\n",
       "      <th>InvoiceDate</th>\n",
       "      <th>UnitPrice</th>\n",
       "      <th>CustomerID</th>\n",
       "      <th>Country</th>\n",
       "      <th>Revenue</th>\n",
       "      <th>Month</th>\n",
       "      <th>days</th>\n",
       "    </tr>\n",
       "  </thead>\n",
       "  <tbody>\n",
       "    <tr>\n",
       "      <th>0</th>\n",
       "      <td>539993</td>\n",
       "      <td>22386</td>\n",
       "      <td>JUMBO BAG PINK POLKADOT</td>\n",
       "      <td>10</td>\n",
       "      <td>2011-01-04 10:00:00</td>\n",
       "      <td>1.95</td>\n",
       "      <td>13313</td>\n",
       "      <td>United Kingdom</td>\n",
       "      <td>19.5</td>\n",
       "      <td>1</td>\n",
       "      <td>339 days 02:50:00</td>\n",
       "    </tr>\n",
       "    <tr>\n",
       "      <th>1</th>\n",
       "      <td>539993</td>\n",
       "      <td>21499</td>\n",
       "      <td>BLUE POLKADOT WRAP</td>\n",
       "      <td>25</td>\n",
       "      <td>2011-01-04 10:00:00</td>\n",
       "      <td>0.42</td>\n",
       "      <td>13313</td>\n",
       "      <td>United Kingdom</td>\n",
       "      <td>10.5</td>\n",
       "      <td>1</td>\n",
       "      <td>339 days 02:50:00</td>\n",
       "    </tr>\n",
       "    <tr>\n",
       "      <th>2</th>\n",
       "      <td>539993</td>\n",
       "      <td>21498</td>\n",
       "      <td>RED RETROSPOT WRAP</td>\n",
       "      <td>25</td>\n",
       "      <td>2011-01-04 10:00:00</td>\n",
       "      <td>0.42</td>\n",
       "      <td>13313</td>\n",
       "      <td>United Kingdom</td>\n",
       "      <td>10.5</td>\n",
       "      <td>1</td>\n",
       "      <td>339 days 02:50:00</td>\n",
       "    </tr>\n",
       "    <tr>\n",
       "      <th>3</th>\n",
       "      <td>539993</td>\n",
       "      <td>22379</td>\n",
       "      <td>RECYCLING BAG RETROSPOT</td>\n",
       "      <td>5</td>\n",
       "      <td>2011-01-04 10:00:00</td>\n",
       "      <td>2.10</td>\n",
       "      <td>13313</td>\n",
       "      <td>United Kingdom</td>\n",
       "      <td>10.5</td>\n",
       "      <td>1</td>\n",
       "      <td>339 days 02:50:00</td>\n",
       "    </tr>\n",
       "    <tr>\n",
       "      <th>4</th>\n",
       "      <td>539993</td>\n",
       "      <td>20718</td>\n",
       "      <td>RED RETROSPOT SHOPPER BAG</td>\n",
       "      <td>10</td>\n",
       "      <td>2011-01-04 10:00:00</td>\n",
       "      <td>1.25</td>\n",
       "      <td>13313</td>\n",
       "      <td>United Kingdom</td>\n",
       "      <td>12.5</td>\n",
       "      <td>1</td>\n",
       "      <td>339 days 02:50:00</td>\n",
       "    </tr>\n",
       "    <tr>\n",
       "      <th>...</th>\n",
       "      <td>...</td>\n",
       "      <td>...</td>\n",
       "      <td>...</td>\n",
       "      <td>...</td>\n",
       "      <td>...</td>\n",
       "      <td>...</td>\n",
       "      <td>...</td>\n",
       "      <td>...</td>\n",
       "      <td>...</td>\n",
       "      <td>...</td>\n",
       "      <td>...</td>\n",
       "    </tr>\n",
       "    <tr>\n",
       "      <th>499287</th>\n",
       "      <td>581578</td>\n",
       "      <td>POST</td>\n",
       "      <td>POSTAGE</td>\n",
       "      <td>3</td>\n",
       "      <td>2011-12-09 12:16:00</td>\n",
       "      <td>18.00</td>\n",
       "      <td>12713</td>\n",
       "      <td>Germany</td>\n",
       "      <td>54.0</td>\n",
       "      <td>12</td>\n",
       "      <td>339 days 02:50:00</td>\n",
       "    </tr>\n",
       "    <tr>\n",
       "      <th>499288</th>\n",
       "      <td>581578</td>\n",
       "      <td>21124</td>\n",
       "      <td>SET/10 BLUE POLKADOT PARTY CANDLES</td>\n",
       "      <td>24</td>\n",
       "      <td>2011-12-09 12:16:00</td>\n",
       "      <td>1.25</td>\n",
       "      <td>12713</td>\n",
       "      <td>Germany</td>\n",
       "      <td>30.0</td>\n",
       "      <td>12</td>\n",
       "      <td>339 days 02:50:00</td>\n",
       "    </tr>\n",
       "    <tr>\n",
       "      <th>499289</th>\n",
       "      <td>581578</td>\n",
       "      <td>21122</td>\n",
       "      <td>SET/10 PINK POLKADOT PARTY CANDLES</td>\n",
       "      <td>24</td>\n",
       "      <td>2011-12-09 12:16:00</td>\n",
       "      <td>1.25</td>\n",
       "      <td>12713</td>\n",
       "      <td>Germany</td>\n",
       "      <td>30.0</td>\n",
       "      <td>12</td>\n",
       "      <td>339 days 02:50:00</td>\n",
       "    </tr>\n",
       "    <tr>\n",
       "      <th>499290</th>\n",
       "      <td>581578</td>\n",
       "      <td>21121</td>\n",
       "      <td>SET/10 RED POLKADOT PARTY CANDLES</td>\n",
       "      <td>24</td>\n",
       "      <td>2011-12-09 12:16:00</td>\n",
       "      <td>1.25</td>\n",
       "      <td>12713</td>\n",
       "      <td>Germany</td>\n",
       "      <td>30.0</td>\n",
       "      <td>12</td>\n",
       "      <td>339 days 02:50:00</td>\n",
       "    </tr>\n",
       "    <tr>\n",
       "      <th>499291</th>\n",
       "      <td>581578</td>\n",
       "      <td>23389</td>\n",
       "      <td>SPACEBOY MINI BACKPACK</td>\n",
       "      <td>4</td>\n",
       "      <td>2011-12-09 12:16:00</td>\n",
       "      <td>4.15</td>\n",
       "      <td>12713</td>\n",
       "      <td>Germany</td>\n",
       "      <td>16.6</td>\n",
       "      <td>12</td>\n",
       "      <td>339 days 02:50:00</td>\n",
       "    </tr>\n",
       "  </tbody>\n",
       "</table>\n",
       "<p>20498 rows × 11 columns</p>\n",
       "</div>"
      ],
      "text/plain": [
       "       InvoiceNo StockCode                         Description  Quantity  \\\n",
       "0         539993     22386             JUMBO BAG PINK POLKADOT        10   \n",
       "1         539993     21499                  BLUE POLKADOT WRAP        25   \n",
       "2         539993     21498                 RED RETROSPOT WRAP         25   \n",
       "3         539993     22379            RECYCLING BAG RETROSPOT          5   \n",
       "4         539993     20718           RED RETROSPOT SHOPPER BAG        10   \n",
       "...          ...       ...                                 ...       ...   \n",
       "499287    581578      POST                             POSTAGE         3   \n",
       "499288    581578     21124  SET/10 BLUE POLKADOT PARTY CANDLES        24   \n",
       "499289    581578     21122  SET/10 PINK POLKADOT PARTY CANDLES        24   \n",
       "499290    581578     21121   SET/10 RED POLKADOT PARTY CANDLES        24   \n",
       "499291    581578     23389              SPACEBOY MINI BACKPACK         4   \n",
       "\n",
       "               InvoiceDate  UnitPrice  CustomerID         Country  Revenue  \\\n",
       "0      2011-01-04 10:00:00       1.95       13313  United Kingdom     19.5   \n",
       "1      2011-01-04 10:00:00       0.42       13313  United Kingdom     10.5   \n",
       "2      2011-01-04 10:00:00       0.42       13313  United Kingdom     10.5   \n",
       "3      2011-01-04 10:00:00       2.10       13313  United Kingdom     10.5   \n",
       "4      2011-01-04 10:00:00       1.25       13313  United Kingdom     12.5   \n",
       "...                    ...        ...         ...             ...      ...   \n",
       "499287 2011-12-09 12:16:00      18.00       12713         Germany     54.0   \n",
       "499288 2011-12-09 12:16:00       1.25       12713         Germany     30.0   \n",
       "499289 2011-12-09 12:16:00       1.25       12713         Germany     30.0   \n",
       "499290 2011-12-09 12:16:00       1.25       12713         Germany     30.0   \n",
       "499291 2011-12-09 12:16:00       4.15       12713         Germany     16.6   \n",
       "\n",
       "        Month              days  \n",
       "0           1 339 days 02:50:00  \n",
       "1           1 339 days 02:50:00  \n",
       "2           1 339 days 02:50:00  \n",
       "3           1 339 days 02:50:00  \n",
       "4           1 339 days 02:50:00  \n",
       "...       ...               ...  \n",
       "499287     12 339 days 02:50:00  \n",
       "499288     12 339 days 02:50:00  \n",
       "499289     12 339 days 02:50:00  \n",
       "499290     12 339 days 02:50:00  \n",
       "499291     12 339 days 02:50:00  \n",
       "\n",
       "[20498 rows x 11 columns]"
      ]
     },
     "execution_count": 34,
     "metadata": {},
     "output_type": "execute_result"
    }
   ],
   "source": [
    "df1 = df.groupby(\"CustomerID\")\n",
    "df1.head()"
   ]
  },
  {
   "cell_type": "code",
   "execution_count": 35,
   "metadata": {},
   "outputs": [
    {
     "data": {
      "text/plain": [
       "11    63182\n",
       "10    48796\n",
       "9     39671\n",
       "5     28075\n",
       "6     26926\n",
       "3     26872\n",
       "8     26796\n",
       "7     26582\n",
       "4     22435\n",
       "1     20991\n",
       "2     19707\n",
       "12    17026\n",
       "Name: Month, dtype: int64"
      ]
     },
     "execution_count": 35,
     "metadata": {},
     "output_type": "execute_result"
    }
   ],
   "source": [
    "df[\"Month\"].value_counts()"
   ]
  },
  {
   "cell_type": "code",
   "execution_count": 36,
   "metadata": {},
   "outputs": [
    {
     "data": {
      "text/plain": [
       "Text(0, 0.5, 'Revenue')"
      ]
     },
     "execution_count": 36,
     "metadata": {},
     "output_type": "execute_result"
    },
    {
     "data": {
      "image/png": "[encoded data removed]",
      "text/plain": [
       "<Figure size 432x288 with 1 Axes>"
      ]
     },
     "metadata": {
      "needs_background": "light"
     },
     "output_type": "display_data"
    }
   ],
   "source": [
    "Monthly_plot = df.groupby(\"Month\")[\"Revenue\"].sum().plot(kind=\"bar\")\n",
    "Monthly_plot.set_xlabel(\"Month\")\n",
    "Monthly_plot.set_ylabel(\"Revenue\")"
   ]
  },
  {
   "cell_type": "code",
   "execution_count": 37,
   "metadata": {},
   "outputs": [
    {
     "data": {
      "text/plain": [
       "0         1.950000e+01\n",
       "1         3.000000e+01\n",
       "2         4.050000e+01\n",
       "3         5.100000e+01\n",
       "4         6.350000e+01\n",
       "              ...     \n",
       "499423    8.316726e+06\n",
       "499424    8.316738e+06\n",
       "499425    8.316755e+06\n",
       "499426    8.316771e+06\n",
       "499427    8.316786e+06\n",
       "Name: cumsum, Length: 367059, dtype: float64"
      ]
     },
     "execution_count": 37,
     "metadata": {},
     "output_type": "execute_result"
    }
   ],
   "source": [
    "df[\"cumsum\"]=df[\"Revenue\"].cumsum()\n",
    "df[\"cumsum\"]"
   ]
  },
  {
   "cell_type": "code",
   "execution_count": 38,
   "metadata": {},
   "outputs": [
    {
     "data": {
      "text/plain": [
       "<pandas.core.groupby.generic.SeriesGroupBy object at 0x000002B25B3B7310>"
      ]
     },
     "execution_count": 38,
     "metadata": {},
     "output_type": "execute_result"
    }
   ],
   "source": [
    "df.groupby(\"Month\")[\"cumsum\"]"
   ]
  },
  {
   "cell_type": "code",
   "execution_count": 39,
   "metadata": {},
   "outputs": [
    {
     "data": {
      "text/plain": [
       "14865       1\n",
       "16634       1\n",
       "15512       1\n",
       "13185       1\n",
       "15316       1\n",
       "         ... \n",
       "14606    2451\n",
       "12748    3761\n",
       "14096    5111\n",
       "14911    5380\n",
       "17841    7390\n",
       "Name: CustomerID, Length: 4220, dtype: int64"
      ]
     },
     "execution_count": 39,
     "metadata": {},
     "output_type": "execute_result"
    }
   ],
   "source": [
    "df[\"CustomerID\"].value_counts().sort_values()"
   ]
  },
  {
   "cell_type": "code",
   "execution_count": 40,
   "metadata": {},
   "outputs": [
    {
     "data": {
      "text/plain": [
       "86.9808056872038"
      ]
     },
     "execution_count": 40,
     "metadata": {},
     "output_type": "execute_result"
    }
   ],
   "source": [
    "df[\"CustomerID\"].value_counts().mean()"
   ]
  },
  {
   "cell_type": "code",
   "execution_count": 41,
   "metadata": {},
   "outputs": [
    {
     "data": {
      "text/plain": [
       "False    3063\n",
       "True     1157\n",
       "Name: CustomerID, dtype: int64"
      ]
     },
     "execution_count": 41,
     "metadata": {},
     "output_type": "execute_result"
    }
   ],
   "source": [
    "Activity = df[\"CustomerID\"].value_counts() > df[\"CustomerID\"].value_counts().mean()\n",
    "Activity.value_counts()"
   ]
  },
  {
   "cell_type": "code",
   "execution_count": 42,
   "metadata": {},
   "outputs": [
    {
     "data": {
      "text/plain": [
       "<AxesSubplot:xlabel='CustomerID', ylabel='count'>"
      ]
     },
     "execution_count": 42,
     "metadata": {},
     "output_type": "execute_result"
    },
    {
     "data": {
      "image/png": "[encoded data removed]",
      "text/plain": [
       "<Figure size 432x288 with 1 Axes>"
      ]
     },
     "metadata": {
      "needs_background": "light"
     },
     "output_type": "display_data"
    }
   ],
   "source": [
    "sns.countplot(Activity)"
   ]
  },
  {
   "cell_type": "code",
   "execution_count": 43,
   "metadata": {},
   "outputs": [
    {
     "data": {
      "text/html": [
       "<div>\n",
       "<style scoped>\n",
       "    .dataframe tbody tr th:only-of-type {\n",
       "        vertical-align: middle;\n",
       "    }\n",
       "\n",
       "    .dataframe tbody tr th {\n",
       "        vertical-align: top;\n",
       "    }\n",
       "\n",
       "    .dataframe thead th {\n",
       "        text-align: right;\n",
       "    }\n",
       "</style>\n",
       "<table border=\"1\" class=\"dataframe\">\n",
       "  <thead>\n",
       "    <tr style=\"text-align: right;\">\n",
       "      <th></th>\n",
       "      <th>CustomerID</th>\n",
       "      <th>InvoiceDate</th>\n",
       "    </tr>\n",
       "    <tr>\n",
       "      <th>Month</th>\n",
       "      <th></th>\n",
       "      <th></th>\n",
       "    </tr>\n",
       "  </thead>\n",
       "  <tbody>\n",
       "    <tr>\n",
       "      <th>1</th>\n",
       "      <td>12346</td>\n",
       "      <td>2011-01-04 10:00:00</td>\n",
       "    </tr>\n",
       "    <tr>\n",
       "      <th>2</th>\n",
       "      <td>12350</td>\n",
       "      <td>2011-02-01 08:23:00</td>\n",
       "    </tr>\n",
       "    <tr>\n",
       "      <th>3</th>\n",
       "      <td>12352</td>\n",
       "      <td>2011-03-01 08:30:00</td>\n",
       "    </tr>\n",
       "    <tr>\n",
       "      <th>4</th>\n",
       "      <td>12347</td>\n",
       "      <td>2011-04-01 08:22:00</td>\n",
       "    </tr>\n",
       "    <tr>\n",
       "      <th>5</th>\n",
       "      <td>12353</td>\n",
       "      <td>2011-05-01 10:51:00</td>\n",
       "    </tr>\n",
       "    <tr>\n",
       "      <th>6</th>\n",
       "      <td>12347</td>\n",
       "      <td>2011-06-01 07:37:00</td>\n",
       "    </tr>\n",
       "    <tr>\n",
       "      <th>7</th>\n",
       "      <td>12358</td>\n",
       "      <td>2011-07-01 08:16:00</td>\n",
       "    </tr>\n",
       "    <tr>\n",
       "      <th>8</th>\n",
       "      <td>12347</td>\n",
       "      <td>2011-08-01 08:30:00</td>\n",
       "    </tr>\n",
       "    <tr>\n",
       "      <th>9</th>\n",
       "      <td>12348</td>\n",
       "      <td>2011-09-01 08:25:00</td>\n",
       "    </tr>\n",
       "    <tr>\n",
       "      <th>10</th>\n",
       "      <td>12347</td>\n",
       "      <td>2011-10-02 10:32:00</td>\n",
       "    </tr>\n",
       "    <tr>\n",
       "      <th>11</th>\n",
       "      <td>12349</td>\n",
       "      <td>2011-11-01 08:16:00</td>\n",
       "    </tr>\n",
       "    <tr>\n",
       "      <th>12</th>\n",
       "      <td>12347</td>\n",
       "      <td>2011-12-01 08:33:00</td>\n",
       "    </tr>\n",
       "  </tbody>\n",
       "</table>\n",
       "</div>"
      ],
      "text/plain": [
       "       CustomerID         InvoiceDate\n",
       "Month                                \n",
       "1           12346 2011-01-04 10:00:00\n",
       "2           12350 2011-02-01 08:23:00\n",
       "3           12352 2011-03-01 08:30:00\n",
       "4           12347 2011-04-01 08:22:00\n",
       "5           12353 2011-05-01 10:51:00\n",
       "6           12347 2011-06-01 07:37:00\n",
       "7           12358 2011-07-01 08:16:00\n",
       "8           12347 2011-08-01 08:30:00\n",
       "9           12348 2011-09-01 08:25:00\n",
       "10          12347 2011-10-02 10:32:00\n",
       "11          12349 2011-11-01 08:16:00\n",
       "12          12347 2011-12-01 08:33:00"
      ]
     },
     "execution_count": 43,
     "metadata": {},
     "output_type": "execute_result"
    }
   ],
   "source": [
    "df.groupby([\"Month\"])[\"CustomerID\",\"InvoiceDate\"].min()"
   ]
  },
  {
   "cell_type": "code",
   "execution_count": 44,
   "metadata": {},
   "outputs": [
    {
     "data": {
      "text/plain": [
       "InvoiceNo  CustomerID\n",
       "553319     16705           1\n",
       "570725     12381           1\n",
       "570723     15267           1\n",
       "551697     16029           1\n",
       "570716     17193           1\n",
       "                        ... \n",
       "573576     14096         435\n",
       "578270     14096         442\n",
       "580727     14096         529\n",
       "579196     14096         533\n",
       "576339     14096         542\n",
       "Name: CustomerID, Length: 17136, dtype: int64"
      ]
     },
     "execution_count": 44,
     "metadata": {},
     "output_type": "execute_result"
    }
   ],
   "source": [
    "df.groupby(\"InvoiceNo\")[\"CustomerID\"].value_counts().sort_values()"
   ]
  },
  {
   "cell_type": "code",
   "execution_count": 45,
   "metadata": {},
   "outputs": [
    {
     "data": {
      "image/png": "[encoded data removed]",
      "text/plain": [
       "<Figure size 1080x720 with 1 Axes>"
      ]
     },
     "metadata": {
      "needs_background": "light"
     },
     "output_type": "display_data"
    }
   ],
   "source": [
    "## Revenue by Country\n",
    "plt.figure(figsize=(15,10))\n",
    "df.groupby([\"Country\"])[\"Revenue\"].sum().plot(kind=\"barh\")\n",
    "plt.show()"
   ]
  },
  {
   "cell_type": "code",
   "execution_count": 46,
   "metadata": {},
   "outputs": [
    {
     "data": {
      "text/plain": [
       "Country\n",
       "Australia                  54\n",
       "Austria                    16\n",
       "Bahrain                     2\n",
       "Belgium                    93\n",
       "Brazil                      1\n",
       "Canada                      6\n",
       "Channel Islands            25\n",
       "Cyprus                     15\n",
       "Czech Republic              2\n",
       "Denmark                    17\n",
       "EIRE                      245\n",
       "European Community          4\n",
       "Finland                    40\n",
       "France                    368\n",
       "Germany                   427\n",
       "Greece                      5\n",
       "Iceland                     6\n",
       "Israel                      5\n",
       "Italy                      36\n",
       "Japan                      16\n",
       "Lebanon                     1\n",
       "Malta                       5\n",
       "Netherlands                92\n",
       "Norway                     34\n",
       "Poland                     18\n",
       "Portugal                   51\n",
       "RSA                         1\n",
       "Saudi Arabia                1\n",
       "Singapore                   7\n",
       "Spain                      86\n",
       "Sweden                     34\n",
       "Switzerland                49\n",
       "USA                         5\n",
       "United Arab Emirates        3\n",
       "United Kingdom          15358\n",
       "Unspecified                 8\n",
       "Name: InvoiceNo, dtype: int64"
      ]
     },
     "execution_count": 46,
     "metadata": {},
     "output_type": "execute_result"
    }
   ],
   "source": [
    "df.groupby(\"Country\")[\"InvoiceNo\"].nunique()"
   ]
  },
  {
   "cell_type": "code",
   "execution_count": 47,
   "metadata": {},
   "outputs": [
    {
     "data": {
      "image/png": "[encoded data removed]",
      "text/plain": [
       "<Figure size 720x576 with 1 Axes>"
      ]
     },
     "metadata": {
      "needs_background": "light"
     },
     "output_type": "display_data"
    }
   ],
   "source": [
    "## Orders by Country\n",
    "plt.figure(figsize=(10,8))\n",
    "df.groupby(\"Country\")[\"InvoiceNo\"].nunique().plot(kind = \"bar\")\n",
    "plt.show()"
   ]
  },
  {
   "cell_type": "markdown",
   "metadata": {},
   "source": [
    "##Revenue per month per order\n",
    "ax = df['Revenue'].plot(secondary_y=True)\n",
    "df[['Month','InvoiceNo']].plot(kind='bar', ax=ax)"
   ]
  },
  {
   "cell_type": "code",
   "execution_count": 48,
   "metadata": {},
   "outputs": [
    {
     "data": {
      "text/plain": [
       "<AxesSubplot:xlabel='Month'>"
      ]
     },
     "execution_count": 48,
     "metadata": {},
     "output_type": "execute_result"
    },
    {
     "data": {
      "image/png": "[encoded data removed]",
      "text/plain": [
       "<Figure size 432x288 with 1 Axes>"
      ]
     },
     "metadata": {
      "needs_background": "light"
     },
     "output_type": "display_data"
    }
   ],
   "source": [
    "## Orders Per Month\n",
    "df.groupby(\"Month\")[\"InvoiceNo\"].nunique().plot(kind = \"bar\")"
   ]
  },
  {
   "cell_type": "code",
   "execution_count": 49,
   "metadata": {},
   "outputs": [
    {
     "data": {
      "image/png": "[encoded data removed]",
      "text/plain": [
       "<Figure size 1080x576 with 1 Axes>"
      ]
     },
     "metadata": {
      "needs_background": "light"
     },
     "output_type": "display_data"
    }
   ],
   "source": [
    "## Total SKU (distinct count of Stock code) by country\n",
    "plt.figure(figsize=(15,8))\n",
    "df.groupby(\"Country\")[\"StockCode\"].nunique().plot(kind=\"bar\")\n",
    "plt.show()"
   ]
  },
  {
   "cell_type": "code",
   "execution_count": 50,
   "metadata": {},
   "outputs": [
    {
     "data": {
      "image/png": "[encoded data removed]",
      "text/plain": [
       "<Figure size 1080x576 with 1 Axes>"
      ]
     },
     "metadata": {
      "needs_background": "light"
     },
     "output_type": "display_data"
    }
   ],
   "source": [
    "#### Total SKU (distinct count of Stock code) by Month\n",
    "plt.figure(figsize=(15,8))\n",
    "df.groupby(\"Month\")[\"StockCode\"].nunique().plot(kind=\"bar\")\n",
    "plt.show()"
   ]
  },
  {
   "cell_type": "markdown",
   "metadata": {},
   "source": [
    "## RFM"
   ]
  },
  {
   "cell_type": "code",
   "execution_count": 51,
   "metadata": {},
   "outputs": [],
   "source": [
    "import datetime as dt"
   ]
  },
  {
   "cell_type": "code",
   "execution_count": 52,
   "metadata": {},
   "outputs": [],
   "source": [
    "PRESENT = dt.datetime(2011,12,10)\n",
    "df['InvoiceDate'] = pd.to_datetime(df['InvoiceDate'])"
   ]
  },
  {
   "cell_type": "code",
   "execution_count": 53,
   "metadata": {},
   "outputs": [],
   "source": [
    "from sklearn.cluster import KMeans"
   ]
  },
  {
   "cell_type": "code",
   "execution_count": 54,
   "metadata": {},
   "outputs": [],
   "source": [
    "rfm= df.groupby('CustomerID').agg({'InvoiceDate': lambda date: (PRESENT - date.max()).days,\n",
    "                                        'InvoiceNo': lambda num: len(num),\n",
    "                                        'Revenue': lambda price: price.sum()})"
   ]
  },
  {
   "cell_type": "code",
   "execution_count": 55,
   "metadata": {},
   "outputs": [
    {
     "data": {
      "text/html": [
       "<div>\n",
       "<style scoped>\n",
       "    .dataframe tbody tr th:only-of-type {\n",
       "        vertical-align: middle;\n",
       "    }\n",
       "\n",
       "    .dataframe tbody tr th {\n",
       "        vertical-align: top;\n",
       "    }\n",
       "\n",
       "    .dataframe thead th {\n",
       "        text-align: right;\n",
       "    }\n",
       "</style>\n",
       "<table border=\"1\" class=\"dataframe\">\n",
       "  <thead>\n",
       "    <tr style=\"text-align: right;\">\n",
       "      <th></th>\n",
       "      <th>InvoiceDate</th>\n",
       "      <th>InvoiceNo</th>\n",
       "      <th>Revenue</th>\n",
       "    </tr>\n",
       "    <tr>\n",
       "      <th>CustomerID</th>\n",
       "      <th></th>\n",
       "      <th></th>\n",
       "      <th></th>\n",
       "    </tr>\n",
       "  </thead>\n",
       "  <tbody>\n",
       "    <tr>\n",
       "      <th>12346</th>\n",
       "      <td>325</td>\n",
       "      <td>1</td>\n",
       "      <td>77183.60</td>\n",
       "    </tr>\n",
       "    <tr>\n",
       "      <th>12347</th>\n",
       "      <td>2</td>\n",
       "      <td>151</td>\n",
       "      <td>3598.21</td>\n",
       "    </tr>\n",
       "    <tr>\n",
       "      <th>12348</th>\n",
       "      <td>75</td>\n",
       "      <td>14</td>\n",
       "      <td>904.44</td>\n",
       "    </tr>\n",
       "    <tr>\n",
       "      <th>12349</th>\n",
       "      <td>18</td>\n",
       "      <td>73</td>\n",
       "      <td>1757.55</td>\n",
       "    </tr>\n",
       "    <tr>\n",
       "      <th>12350</th>\n",
       "      <td>310</td>\n",
       "      <td>17</td>\n",
       "      <td>334.40</td>\n",
       "    </tr>\n",
       "  </tbody>\n",
       "</table>\n",
       "</div>"
      ],
      "text/plain": [
       "            InvoiceDate  InvoiceNo   Revenue\n",
       "CustomerID                                  \n",
       "12346               325          1  77183.60\n",
       "12347                 2        151   3598.21\n",
       "12348                75         14    904.44\n",
       "12349                18         73   1757.55\n",
       "12350               310         17    334.40"
      ]
     },
     "execution_count": 55,
     "metadata": {},
     "output_type": "execute_result"
    }
   ],
   "source": [
    "rfm.head()"
   ]
  },
  {
   "cell_type": "code",
   "execution_count": 56,
   "metadata": {},
   "outputs": [
    {
     "name": "stdout",
     "output_type": "stream",
     "text": [
      "<class 'pandas.core.frame.DataFrame'>\n",
      "Int64Index: 4220 entries, 12346 to 18287\n",
      "Data columns (total 3 columns):\n",
      " #   Column       Non-Null Count  Dtype  \n",
      "---  ------       --------------  -----  \n",
      " 0   InvoiceDate  4220 non-null   int64  \n",
      " 1   InvoiceNo    4220 non-null   int64  \n",
      " 2   Revenue      4220 non-null   float64\n",
      "dtypes: float64(1), int64(2)\n",
      "memory usage: 131.9 KB\n"
     ]
    }
   ],
   "source": [
    "rfm.info()"
   ]
  },
  {
   "cell_type": "code",
   "execution_count": 57,
   "metadata": {},
   "outputs": [],
   "source": [
    "kmeans = KMeans(n_clusters=3)"
   ]
  },
  {
   "cell_type": "code",
   "execution_count": 58,
   "metadata": {},
   "outputs": [
    {
     "data": {
      "text/plain": [
       "'InvoiceDate'"
      ]
     },
     "execution_count": 58,
     "metadata": {},
     "output_type": "execute_result"
    }
   ],
   "source": [
    "rfm.columns[0]"
   ]
  },
  {
   "cell_type": "code",
   "execution_count": 59,
   "metadata": {},
   "outputs": [
    {
     "data": {
      "text/plain": [
       "KMeans(n_clusters=3)"
      ]
     },
     "execution_count": 59,
     "metadata": {},
     "output_type": "execute_result"
    }
   ],
   "source": [
    "kmeans.fit(rfm)"
   ]
  },
  {
   "cell_type": "code",
   "execution_count": 60,
   "metadata": {},
   "outputs": [
    {
     "data": {
      "text/plain": [
       "array([[8.48431748e+01, 7.85307196e+01, 1.37579304e+03],\n",
       "       [6.14285714e+00, 1.46385714e+03, 1.77435274e+05],\n",
       "       [3.10333333e+01, 9.43933333e+02, 4.39932313e+04]])"
      ]
     },
     "execution_count": 60,
     "metadata": {},
     "output_type": "execute_result"
    }
   ],
   "source": [
    "kmeans.cluster_centers_"
   ]
  },
  {
   "cell_type": "code",
   "execution_count": 61,
   "metadata": {},
   "outputs": [
    {
     "data": {
      "text/plain": [
       "array([2, 0, 0, ..., 0, 0, 0])"
      ]
     },
     "execution_count": 61,
     "metadata": {},
     "output_type": "execute_result"
    }
   ],
   "source": [
    "kmeans.labels_"
   ]
  },
  {
   "cell_type": "code",
   "execution_count": 62,
   "metadata": {},
   "outputs": [],
   "source": [
    "rfm['r_quartile'] = pd.qcut(rfm['InvoiceDate'], 3, ['1','2','3'])\n",
    "rfm['f_quartile'] = pd.qcut(rfm['InvoiceNo'], 3, ['3','2','1'])\n",
    "rfm['m_quartile'] = pd.qcut(rfm['Revenue'], 3, ['3','2','1'])"
   ]
  },
  {
   "cell_type": "code",
   "execution_count": 63,
   "metadata": {
    "scrolled": true
   },
   "outputs": [
    {
     "data": {
      "text/html": [
       "<div>\n",
       "<style scoped>\n",
       "    .dataframe tbody tr th:only-of-type {\n",
       "        vertical-align: middle;\n",
       "    }\n",
       "\n",
       "    .dataframe tbody tr th {\n",
       "        vertical-align: top;\n",
       "    }\n",
       "\n",
       "    .dataframe thead th {\n",
       "        text-align: right;\n",
       "    }\n",
       "</style>\n",
       "<table border=\"1\" class=\"dataframe\">\n",
       "  <thead>\n",
       "    <tr style=\"text-align: right;\">\n",
       "      <th></th>\n",
       "      <th>InvoiceDate</th>\n",
       "      <th>InvoiceNo</th>\n",
       "      <th>Revenue</th>\n",
       "      <th>r_quartile</th>\n",
       "      <th>f_quartile</th>\n",
       "      <th>m_quartile</th>\n",
       "      <th>RFM_Cell</th>\n",
       "    </tr>\n",
       "    <tr>\n",
       "      <th>CustomerID</th>\n",
       "      <th></th>\n",
       "      <th></th>\n",
       "      <th></th>\n",
       "      <th></th>\n",
       "      <th></th>\n",
       "      <th></th>\n",
       "      <th></th>\n",
       "    </tr>\n",
       "  </thead>\n",
       "  <tbody>\n",
       "    <tr>\n",
       "      <th>12346</th>\n",
       "      <td>325</td>\n",
       "      <td>1</td>\n",
       "      <td>77183.60</td>\n",
       "      <td>3</td>\n",
       "      <td>3</td>\n",
       "      <td>1</td>\n",
       "      <td>331</td>\n",
       "    </tr>\n",
       "    <tr>\n",
       "      <th>12347</th>\n",
       "      <td>2</td>\n",
       "      <td>151</td>\n",
       "      <td>3598.21</td>\n",
       "      <td>1</td>\n",
       "      <td>1</td>\n",
       "      <td>1</td>\n",
       "      <td>111</td>\n",
       "    </tr>\n",
       "    <tr>\n",
       "      <th>12348</th>\n",
       "      <td>75</td>\n",
       "      <td>14</td>\n",
       "      <td>904.44</td>\n",
       "      <td>2</td>\n",
       "      <td>3</td>\n",
       "      <td>2</td>\n",
       "      <td>232</td>\n",
       "    </tr>\n",
       "    <tr>\n",
       "      <th>12349</th>\n",
       "      <td>18</td>\n",
       "      <td>73</td>\n",
       "      <td>1757.55</td>\n",
       "      <td>1</td>\n",
       "      <td>1</td>\n",
       "      <td>1</td>\n",
       "      <td>111</td>\n",
       "    </tr>\n",
       "    <tr>\n",
       "      <th>12350</th>\n",
       "      <td>310</td>\n",
       "      <td>17</td>\n",
       "      <td>334.40</td>\n",
       "      <td>3</td>\n",
       "      <td>3</td>\n",
       "      <td>3</td>\n",
       "      <td>333</td>\n",
       "    </tr>\n",
       "  </tbody>\n",
       "</table>\n",
       "</div>"
      ],
      "text/plain": [
       "            InvoiceDate  InvoiceNo   Revenue r_quartile f_quartile m_quartile  \\\n",
       "CustomerID                                                                      \n",
       "12346               325          1  77183.60          3          3          1   \n",
       "12347                 2        151   3598.21          1          1          1   \n",
       "12348                75         14    904.44          2          3          2   \n",
       "12349                18         73   1757.55          1          1          1   \n",
       "12350               310         17    334.40          3          3          3   \n",
       "\n",
       "           RFM_Cell  \n",
       "CustomerID           \n",
       "12346           331  \n",
       "12347           111  \n",
       "12348           232  \n",
       "12349           111  \n",
       "12350           333  "
      ]
     },
     "execution_count": 63,
     "metadata": {},
     "output_type": "execute_result"
    }
   ],
   "source": [
    "rfm['RFM_Cell'] = rfm.r_quartile.astype(str)+ rfm.f_quartile.astype(str) + rfm.m_quartile.astype(str)\n",
    "rfm.head()"
   ]
  },
  {
   "cell_type": "code",
   "execution_count": 64,
   "metadata": {},
   "outputs": [],
   "source": [
    "rfm['RFM_Score']=(rfm.r_quartile.astype(int)+ rfm.f_quartile.astype(int) + rfm.m_quartile.astype(int))/3\n"
   ]
  },
  {
   "cell_type": "code",
   "execution_count": 65,
   "metadata": {},
   "outputs": [
    {
     "data": {
      "text/html": [
       "<div>\n",
       "<style scoped>\n",
       "    .dataframe tbody tr th:only-of-type {\n",
       "        vertical-align: middle;\n",
       "    }\n",
       "\n",
       "    .dataframe tbody tr th {\n",
       "        vertical-align: top;\n",
       "    }\n",
       "\n",
       "    .dataframe thead th {\n",
       "        text-align: right;\n",
       "    }\n",
       "</style>\n",
       "<table border=\"1\" class=\"dataframe\">\n",
       "  <thead>\n",
       "    <tr style=\"text-align: right;\">\n",
       "      <th></th>\n",
       "      <th>InvoiceDate</th>\n",
       "      <th>InvoiceNo</th>\n",
       "      <th>Revenue</th>\n",
       "      <th>r_quartile</th>\n",
       "      <th>f_quartile</th>\n",
       "      <th>m_quartile</th>\n",
       "      <th>RFM_Cell</th>\n",
       "      <th>RFM_Score</th>\n",
       "    </tr>\n",
       "    <tr>\n",
       "      <th>CustomerID</th>\n",
       "      <th></th>\n",
       "      <th></th>\n",
       "      <th></th>\n",
       "      <th></th>\n",
       "      <th></th>\n",
       "      <th></th>\n",
       "      <th></th>\n",
       "      <th></th>\n",
       "    </tr>\n",
       "  </thead>\n",
       "  <tbody>\n",
       "    <tr>\n",
       "      <th>12346</th>\n",
       "      <td>325</td>\n",
       "      <td>1</td>\n",
       "      <td>77183.60</td>\n",
       "      <td>3</td>\n",
       "      <td>3</td>\n",
       "      <td>1</td>\n",
       "      <td>331</td>\n",
       "      <td>2.333333</td>\n",
       "    </tr>\n",
       "    <tr>\n",
       "      <th>12347</th>\n",
       "      <td>2</td>\n",
       "      <td>151</td>\n",
       "      <td>3598.21</td>\n",
       "      <td>1</td>\n",
       "      <td>1</td>\n",
       "      <td>1</td>\n",
       "      <td>111</td>\n",
       "      <td>1.000000</td>\n",
       "    </tr>\n",
       "    <tr>\n",
       "      <th>12348</th>\n",
       "      <td>75</td>\n",
       "      <td>14</td>\n",
       "      <td>904.44</td>\n",
       "      <td>2</td>\n",
       "      <td>3</td>\n",
       "      <td>2</td>\n",
       "      <td>232</td>\n",
       "      <td>2.333333</td>\n",
       "    </tr>\n",
       "    <tr>\n",
       "      <th>12349</th>\n",
       "      <td>18</td>\n",
       "      <td>73</td>\n",
       "      <td>1757.55</td>\n",
       "      <td>1</td>\n",
       "      <td>1</td>\n",
       "      <td>1</td>\n",
       "      <td>111</td>\n",
       "      <td>1.000000</td>\n",
       "    </tr>\n",
       "    <tr>\n",
       "      <th>12350</th>\n",
       "      <td>310</td>\n",
       "      <td>17</td>\n",
       "      <td>334.40</td>\n",
       "      <td>3</td>\n",
       "      <td>3</td>\n",
       "      <td>3</td>\n",
       "      <td>333</td>\n",
       "      <td>3.000000</td>\n",
       "    </tr>\n",
       "    <tr>\n",
       "      <th>...</th>\n",
       "      <td>...</td>\n",
       "      <td>...</td>\n",
       "      <td>...</td>\n",
       "      <td>...</td>\n",
       "      <td>...</td>\n",
       "      <td>...</td>\n",
       "      <td>...</td>\n",
       "      <td>...</td>\n",
       "    </tr>\n",
       "    <tr>\n",
       "      <th>18280</th>\n",
       "      <td>277</td>\n",
       "      <td>10</td>\n",
       "      <td>180.60</td>\n",
       "      <td>3</td>\n",
       "      <td>3</td>\n",
       "      <td>3</td>\n",
       "      <td>333</td>\n",
       "      <td>3.000000</td>\n",
       "    </tr>\n",
       "    <tr>\n",
       "      <th>18281</th>\n",
       "      <td>180</td>\n",
       "      <td>7</td>\n",
       "      <td>80.82</td>\n",
       "      <td>3</td>\n",
       "      <td>3</td>\n",
       "      <td>3</td>\n",
       "      <td>333</td>\n",
       "      <td>3.000000</td>\n",
       "    </tr>\n",
       "    <tr>\n",
       "      <th>18282</th>\n",
       "      <td>7</td>\n",
       "      <td>12</td>\n",
       "      <td>178.05</td>\n",
       "      <td>1</td>\n",
       "      <td>3</td>\n",
       "      <td>3</td>\n",
       "      <td>133</td>\n",
       "      <td>2.333333</td>\n",
       "    </tr>\n",
       "    <tr>\n",
       "      <th>18283</th>\n",
       "      <td>3</td>\n",
       "      <td>721</td>\n",
       "      <td>2045.53</td>\n",
       "      <td>1</td>\n",
       "      <td>1</td>\n",
       "      <td>1</td>\n",
       "      <td>111</td>\n",
       "      <td>1.000000</td>\n",
       "    </tr>\n",
       "    <tr>\n",
       "      <th>18287</th>\n",
       "      <td>42</td>\n",
       "      <td>70</td>\n",
       "      <td>1837.28</td>\n",
       "      <td>2</td>\n",
       "      <td>2</td>\n",
       "      <td>1</td>\n",
       "      <td>221</td>\n",
       "      <td>1.666667</td>\n",
       "    </tr>\n",
       "  </tbody>\n",
       "</table>\n",
       "<p>4220 rows × 8 columns</p>\n",
       "</div>"
      ],
      "text/plain": [
       "            InvoiceDate  InvoiceNo   Revenue r_quartile f_quartile m_quartile  \\\n",
       "CustomerID                                                                      \n",
       "12346               325          1  77183.60          3          3          1   \n",
       "12347                 2        151   3598.21          1          1          1   \n",
       "12348                75         14    904.44          2          3          2   \n",
       "12349                18         73   1757.55          1          1          1   \n",
       "12350               310         17    334.40          3          3          3   \n",
       "...                 ...        ...       ...        ...        ...        ...   \n",
       "18280               277         10    180.60          3          3          3   \n",
       "18281               180          7     80.82          3          3          3   \n",
       "18282                 7         12    178.05          1          3          3   \n",
       "18283                 3        721   2045.53          1          1          1   \n",
       "18287                42         70   1837.28          2          2          1   \n",
       "\n",
       "           RFM_Cell  RFM_Score  \n",
       "CustomerID                      \n",
       "12346           331   2.333333  \n",
       "12347           111   1.000000  \n",
       "12348           232   2.333333  \n",
       "12349           111   1.000000  \n",
       "12350           333   3.000000  \n",
       "...             ...        ...  \n",
       "18280           333   3.000000  \n",
       "18281           333   3.000000  \n",
       "18282           133   2.333333  \n",
       "18283           111   1.000000  \n",
       "18287           221   1.666667  \n",
       "\n",
       "[4220 rows x 8 columns]"
      ]
     },
     "execution_count": 65,
     "metadata": {},
     "output_type": "execute_result"
    }
   ],
   "source": [
    "rfm"
   ]
  },
  {
   "cell_type": "code",
   "execution_count": 66,
   "metadata": {},
   "outputs": [
    {
     "data": {
      "text/plain": [
       "2.333333    697\n",
       "1.000000    659\n",
       "3.000000    615\n",
       "2.000000    581\n",
       "1.333333    562\n",
       "2.666667    555\n",
       "1.666667    551\n",
       "Name: RFM_Score, dtype: int64"
      ]
     },
     "execution_count": 66,
     "metadata": {},
     "output_type": "execute_result"
    }
   ],
   "source": [
    "rfm[\"RFM_Score\"].value_counts()"
   ]
  },
  {
   "cell_type": "code",
   "execution_count": 67,
   "metadata": {},
   "outputs": [
    {
     "data": {
      "text/plain": [
       "<pandas.core.groupby.generic.DataFrameGroupBy object at 0x000002B26213ED00>"
      ]
     },
     "execution_count": 67,
     "metadata": {},
     "output_type": "execute_result"
    }
   ],
   "source": [
    "rfm.groupby([\"RFM_Score\"])"
   ]
  },
  {
   "cell_type": "code",
   "execution_count": 68,
   "metadata": {},
   "outputs": [
    {
     "data": {
      "text/plain": [
       "<AxesSubplot:xlabel='RFM_Score', ylabel='count'>"
      ]
     },
     "execution_count": 68,
     "metadata": {},
     "output_type": "execute_result"
    },
    {
     "data": {
      "image/png": "[encoded data removed]",
      "text/plain": [
       "<Figure size 1800x720 with 1 Axes>"
      ]
     },
     "metadata": {
      "needs_background": "light"
     },
     "output_type": "display_data"
    }
   ],
   "source": [
    "plt.figure(figsize=(25,10))\n",
    "sns.countplot(rfm[\"RFM_Score\"])"
   ]
  },
  {
   "cell_type": "code",
   "execution_count": 69,
   "metadata": {},
   "outputs": [
    {
     "data": {
      "text/html": [
       "<div>\n",
       "<style scoped>\n",
       "    .dataframe tbody tr th:only-of-type {\n",
       "        vertical-align: middle;\n",
       "    }\n",
       "\n",
       "    .dataframe tbody tr th {\n",
       "        vertical-align: top;\n",
       "    }\n",
       "\n",
       "    .dataframe thead th {\n",
       "        text-align: right;\n",
       "    }\n",
       "</style>\n",
       "<table border=\"1\" class=\"dataframe\">\n",
       "  <thead>\n",
       "    <tr style=\"text-align: right;\">\n",
       "      <th></th>\n",
       "      <th>InvoiceDate</th>\n",
       "      <th>InvoiceNo</th>\n",
       "      <th>Revenue</th>\n",
       "      <th>r_quartile</th>\n",
       "      <th>f_quartile</th>\n",
       "      <th>m_quartile</th>\n",
       "      <th>RFM_Cell</th>\n",
       "      <th>RFM_Score</th>\n",
       "      <th>Customer_Segment</th>\n",
       "    </tr>\n",
       "    <tr>\n",
       "      <th>CustomerID</th>\n",
       "      <th></th>\n",
       "      <th></th>\n",
       "      <th></th>\n",
       "      <th></th>\n",
       "      <th></th>\n",
       "      <th></th>\n",
       "      <th></th>\n",
       "      <th></th>\n",
       "      <th></th>\n",
       "    </tr>\n",
       "  </thead>\n",
       "  <tbody>\n",
       "    <tr>\n",
       "      <th>12346</th>\n",
       "      <td>325</td>\n",
       "      <td>1</td>\n",
       "      <td>77183.60</td>\n",
       "      <td>3</td>\n",
       "      <td>3</td>\n",
       "      <td>1</td>\n",
       "      <td>331</td>\n",
       "      <td>2.333333</td>\n",
       "      <td>MEDIUM</td>\n",
       "    </tr>\n",
       "    <tr>\n",
       "      <th>12347</th>\n",
       "      <td>2</td>\n",
       "      <td>151</td>\n",
       "      <td>3598.21</td>\n",
       "      <td>1</td>\n",
       "      <td>1</td>\n",
       "      <td>1</td>\n",
       "      <td>111</td>\n",
       "      <td>1.000000</td>\n",
       "      <td>BEST</td>\n",
       "    </tr>\n",
       "    <tr>\n",
       "      <th>12348</th>\n",
       "      <td>75</td>\n",
       "      <td>14</td>\n",
       "      <td>904.44</td>\n",
       "      <td>2</td>\n",
       "      <td>3</td>\n",
       "      <td>2</td>\n",
       "      <td>232</td>\n",
       "      <td>2.333333</td>\n",
       "      <td>MEDIUM</td>\n",
       "    </tr>\n",
       "    <tr>\n",
       "      <th>12349</th>\n",
       "      <td>18</td>\n",
       "      <td>73</td>\n",
       "      <td>1757.55</td>\n",
       "      <td>1</td>\n",
       "      <td>1</td>\n",
       "      <td>1</td>\n",
       "      <td>111</td>\n",
       "      <td>1.000000</td>\n",
       "      <td>BEST</td>\n",
       "    </tr>\n",
       "    <tr>\n",
       "      <th>12350</th>\n",
       "      <td>310</td>\n",
       "      <td>17</td>\n",
       "      <td>334.40</td>\n",
       "      <td>3</td>\n",
       "      <td>3</td>\n",
       "      <td>3</td>\n",
       "      <td>333</td>\n",
       "      <td>3.000000</td>\n",
       "      <td>WORST</td>\n",
       "    </tr>\n",
       "  </tbody>\n",
       "</table>\n",
       "</div>"
      ],
      "text/plain": [
       "            InvoiceDate  InvoiceNo   Revenue r_quartile f_quartile m_quartile  \\\n",
       "CustomerID                                                                      \n",
       "12346               325          1  77183.60          3          3          1   \n",
       "12347                 2        151   3598.21          1          1          1   \n",
       "12348                75         14    904.44          2          3          2   \n",
       "12349                18         73   1757.55          1          1          1   \n",
       "12350               310         17    334.40          3          3          3   \n",
       "\n",
       "           RFM_Cell  RFM_Score Customer_Segment  \n",
       "CustomerID                                       \n",
       "12346           331   2.333333           MEDIUM  \n",
       "12347           111   1.000000             BEST  \n",
       "12348           232   2.333333           MEDIUM  \n",
       "12349           111   1.000000             BEST  \n",
       "12350           333   3.000000            WORST  "
      ]
     },
     "execution_count": 69,
     "metadata": {},
     "output_type": "execute_result"
    }
   ],
   "source": [
    "conditions = [\n",
    "    (rfm[\"RFM_Score\"] <= 1.33),\n",
    "    (rfm[\"RFM_Score\"] > 1.33) & (rfm[\"RFM_Score\"] <2.66),\n",
    "    (rfm[\"RFM_Score\"] >= 2.66) & (rfm[\"RFM_Score\"] <=3)\n",
    "    ]\n",
    "\n",
    "values = [\"BEST\",\"MEDIUM\", \"WORST\"]\n",
    "\n",
    "rfm[\"Customer_Segment\"] = np.select(conditions, values)\n",
    "\n",
    "rfm.head()\n",
    "    "
   ]
  },
  {
   "cell_type": "code",
   "execution_count": 70,
   "metadata": {},
   "outputs": [
    {
     "data": {
      "text/plain": [
       "MEDIUM    2391\n",
       "WORST     1170\n",
       "BEST       659\n",
       "Name: Customer_Segment, dtype: int64"
      ]
     },
     "execution_count": 70,
     "metadata": {},
     "output_type": "execute_result"
    }
   ],
   "source": [
    "rfm[\"Customer_Segment\"].value_counts()"
   ]
  },
  {
   "cell_type": "code",
   "execution_count": 71,
   "metadata": {},
   "outputs": [
    {
     "data": {
      "text/plain": [
       "<AxesSubplot:xlabel='Customer_Segment', ylabel='count'>"
      ]
     },
     "execution_count": 71,
     "metadata": {},
     "output_type": "execute_result"
    },
    {
     "data": {
      "image/png": "[encoded data removed]",
      "text/plain": [
       "<Figure size 432x288 with 1 Axes>"
      ]
     },
     "metadata": {
      "needs_background": "light"
     },
     "output_type": "display_data"
    }
   ],
   "source": [
    "sns.countplot(rfm[\"Customer_Segment\"])"
   ]
  },
  {
   "cell_type": "code",
   "execution_count": 72,
   "metadata": {},
   "outputs": [],
   "source": [
    "import pickle"
   ]
  },
  {
   "cell_type": "code",
   "execution_count": 75,
   "metadata": {},
   "outputs": [],
   "source": [
    "L = open('rfm.pickle','wb')\n",
    "pickle.dump(rfm,L)\n",
    "L.close()"
   ]
  },
  {
   "cell_type": "code",
   "execution_count": null,
   "metadata": {},
   "outputs": [],
   "source": []
  }
 ],
 "metadata": {
  "kernelspec": {
   "display_name": "Python 3",
   "language": "python",
   "name": "python3"
  },
  "language_info": {
   "codemirror_mode": {
    "name": "ipython",
    "version": 3
   },
   "file_extension": ".py",
   "mimetype": "text/x-python",
   "name": "python",
   "nbconvert_exporter": "python",
   "pygments_lexer": "ipython3",
   "version": "3.8.5"
  }
 },
 "nbformat": 4,
 "nbformat_minor": 4
}
